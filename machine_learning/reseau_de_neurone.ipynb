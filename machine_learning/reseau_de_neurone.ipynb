{
 "cells": [
  {
   "cell_type": "markdown",
   "id": "75f34d44",
   "metadata": {},
   "source": [
    "# Perpceptron\n",
    "The perceptron consists of an input layer with $p$ neurones or units each one associated with an input variable.\n",
    "these neurons transfer their input values to the next layer.\n",
    "In addition these $p$ neurones we input a bias unit neuron whose output is always 1.\n",
    "Any vector $\\vec{x} = (x_1, x_2, \\ldots, x_p)$ is replaced by $\\vec{x} = (1, x_1, x_2, \\ldots, x_p)$.\n",
    "\n",
    "The first and only layer of the perceptron consists of a single neuron to which all the units of the input layer are connected. This neuron caclulates the linear combination  $o(\\vec{x})=w_0+\\sum_{j=1}^{p} w_jx_j$ of the input signals $x_1, x_2, \\ldots, xp$. It then applies an activation function $a$ to this linear combination and transmits the result. This output implements the decision function of the perceptron."
   ]
  },
  {
   "cell_type": "markdown",
   "id": "0e177b0f",
   "metadata": {},
   "source": [
    "- ### Linear combination\n",
    "$o(\\vec{x})=w_0+\\sum_{j=1}^{p} w_jx_j$ of the input signals $x_1, x_2, \\ldots, xp$"
   ]
  },
  {
   "cell_type": "code",
   "execution_count": 4,
   "id": "cf84e6fa",
   "metadata": {},
   "outputs": [
    {
     "name": "stdout",
     "output_type": "stream",
     "text": [
      "o(x) = 13\n"
     ]
    }
   ],
   "source": [
    "#combinaison lineaire\n",
    "def lin_comb(x,w,w0):\n",
    "    sum = 0\n",
    "    for i in range(len(x)):\n",
    "        sum += x[i]*w[i]\n",
    "    return w0+sum\n",
    "\n",
    "x = [1,1,1]\n",
    "w = [2,3,4]\n",
    "w0 = 4\n",
    "\n",
    "print(f\"o(x) = {lin_comb(x,w,w0)}\")\n"
   ]
  },
  {
   "cell_type": "markdown",
   "id": "2c830950",
   "metadata": {},
   "source": [
    "### A - Binary Classification"
   ]
  },
  {
   "cell_type": "markdown",
   "id": "fa78724d",
   "metadata": {},
   "source": [
    "- #### Threshold activation function or step function\n",
    "    $ f:\\vec(x) \\mapsto \\begin{cases} 0, & \\text{if } o(x) \\geq 0 \\\\ 1, & else \\\\ \\end{cases}$"
   ]
  },
  {
   "cell_type": "code",
   "execution_count": 5,
   "id": "33283ed5",
   "metadata": {},
   "outputs": [],
   "source": [
    "#activation function\n",
    "import math \n",
    "#binary classification \n",
    "\n",
    "#thresold activation function\n",
    "def a_threshold(ox):\n",
    "    return 0 if ox<=0 else 1\n"
   ]
  },
  {
   "cell_type": "markdown",
   "id": "7fac76d0",
   "metadata": {},
   "source": [
    "- ### Logistic activation function \n",
    "\n",
    "    $f:\\vec(x) \\mapsto \\frac{1}{1 + e^{-o(\\vec(x)}}$"
   ]
  },
  {
   "cell_type": "code",
   "execution_count": 6,
   "id": "a0beed6d",
   "metadata": {},
   "outputs": [],
   "source": [
    "\n",
    "#logistic activation function\n",
    "def a_logistic(ox):\n",
    "    return 1/(1+math.exp(ox))"
   ]
  },
  {
   "cell_type": "markdown",
   "id": "18026b66",
   "metadata": {},
   "source": [
    "- ### A Perceptron\n",
    "$f\\vec(x) = a(o\\vec(x)) = a \\left(w_0+\\sum_{j=1}^{p} w_jx_j \\right) $"
   ]
  },
  {
   "cell_type": "code",
   "execution_count": 11,
   "id": "b68a05cf",
   "metadata": {},
   "outputs": [],
   "source": [
    "#perecetron\n",
    "#x: input neuron vector\n",
    "#w: connection weight vector\n",
    "#a: activation function\n",
    "class Neuron:\n",
    "    def __init__(self, init_con_weight, init_bias_weight, a):\n",
    "        self.w = init_con_weight\n",
    "        self.w0 = init_bias_weight\n",
    "        self.a = a\n",
    "        \n",
    "    def output(self, x):\n",
    "        ox = comb_lin(x,w,w0);\n",
    "        print(f\"ox = {ox}\")\n",
    "        return self.a(ox)  \n",
    "        "
   ]
  },
  {
   "cell_type": "code",
   "execution_count": 15,
   "id": "cb3c8e3a",
   "metadata": {},
   "outputs": [
    {
     "name": "stdout",
     "output_type": "stream",
     "text": [
      "ox = 0.6999999999999993\n",
      "bin_perc_th = 1\n",
      "\n",
      "ox = 0.6999999999999993\n",
      "bin_perc_log = 0.331812227831834\n",
      "\n"
     ]
    }
   ],
   "source": [
    "#test\n",
    "input_values = [2,5,8]\n",
    "w = [-1.4, -4.5, 3]\n",
    "w0 = 2\n",
    "\n",
    "bin_perc_th = Neuron(w, w0, a_threshold)\n",
    "print(f\"bin_perc_th = {bin_perc_th.output(input_values)}\\n\")\n",
    "\n",
    "bin_perc_log = Neuron(w, w0, a_logistic)\n",
    "print(f\"bin_perc_log = {bin_perc_log.output(input_values)}\\n\")\n"
   ]
  },
  {
   "cell_type": "markdown",
   "id": "6044566e",
   "metadata": {},
   "source": [
    "### B - Multi-class classification\n",
    "\n",
    "For multi-class classification the architecture of the Perceptron consists of C neurons in the output layer, where C is the nomber of classes. Each of the $p+1$ neurons in the input layer is be connected to each of the output neurons. Therefore, we will have $(p+1)C$ connection weigths, denoted as $w^c_j$, where c represents the class index and j represents the input neuron index.\n",
    "For this perceptron, we use the softmax function as activation function, also known as the normalized exponential function."
   ]
  },
  {
   "cell_type": "markdown",
   "id": "6db654e0",
   "metadata": {},
   "source": [
    "- #### Softmax activation function \n",
    "\n",
    "The output of the $c$-th neuron of the softmax layer is given by:\n",
    "\n",
    "$\\sigma(o_1, o_2, \\dots, o_C )_c = \\frac{e^{x_i}}{\\sum_{j=1}^{n} e^{x_j}}$\n"
   ]
  },
  {
   "cell_type": "markdown",
   "id": "fd28dc5a",
   "metadata": {},
   "source": []
  },
  {
   "cell_type": "code",
   "execution_count": 59,
   "id": "98a17f5f",
   "metadata": {},
   "outputs": [],
   "source": [
    "# Multi-class classification perecetron\n",
    "# x: input neuron vector\n",
    "# w: connection weight vector\n",
    "# a: activation function\n",
    "class Neuron_mc:\n",
    "    def __init__(self, init_con_weight, init_bias_weight):\n",
    "        self.w = init_con_weight\n",
    "        self.w0 = init_bias_weight\n",
    "    def __str__(self):\n",
    "        info = f\"w0 = {self.w0}\\n\"\n",
    "        j = 1\n",
    "        for wj in self.w:\n",
    "            info += f\"w{j} = {wj}\\n\"\n",
    "            j += 1\n",
    "        return info     \n",
    "\n",
    "class Layer:\n",
    "    def __init__(self, *args):\n",
    "        self.neurons = []\n",
    "        for neuron in args:\n",
    "            self.neurons.append(neuron)\n",
    "        \n",
    "    def update_softmax(self, x):\n",
    "        self.oc_list = [lin_comb(x, neuron.w, neuron.w0) for neuron in self.neurons]\n",
    "        self.exp_oc_list = list(map(lambda ok : math.exp(ok), self.oc_list))\n",
    "    \n",
    "    def output(self, x):\n",
    "        self.update_softmax(x)\n",
    "        sum_exp_ok = sum(self.exp_oc_list)\n",
    "        return [ok/sum_exp_ok for ok in self.exp_oc_list]\n",
    "        \n",
    "    def __str__(self):\n",
    "        info = \"\"\n",
    "        j = 1\n",
    "        for neuron in self.neurons:\n",
    "            info += f\"\\nNeurone{j}\\n{str(neuron)}\"\n",
    "            j += 1\n",
    "        return info\n",
    "            \n"
   ]
  },
  {
   "cell_type": "code",
   "execution_count": 62,
   "id": "a664d4b4",
   "metadata": {},
   "outputs": [
    {
     "name": "stdout",
     "output_type": "stream",
     "text": [
      "\n",
      "Neurone1\n",
      "w0 = 2\n",
      "w1 = -1.4\n",
      "w2 = -4.5\n",
      "w3 = 3\n",
      "\n",
      "Neurone2\n",
      "w0 = 4.3\n",
      "w1 = -1.8\n",
      "w2 = -5.5\n",
      "w3 = 4.9\n",
      "\n",
      "Neurone3\n",
      "w0 = 3\n",
      "w1 = -5.2\n",
      "w2 = -9.5\n",
      "w3 = 2.7\n",
      "\n",
      "[8.293750373891576e-06, 0.9999917062496261, 1.4214728694917544e-20]\n"
     ]
    }
   ],
   "source": [
    "#test\n",
    "input_values = [2,5,8]\n",
    "w = [-1.4, -4.5, 3]\n",
    "w0 = 2\n",
    "\n",
    "perc1 = Neuron_mc(w, w0)\n",
    "perc2 = Neuron_mc([-1.8, -5.5, 4.9], 4.3)\n",
    "perc3 = Neuron_mc([-5.2, -9.5, 2.7], 3)\n",
    "\n",
    "layer = Layer(perc1, perc2, perc3)\n",
    "print(layer)\n",
    "\n",
    "print(layer.output(input_values))\n",
    "\n",
    "    "
   ]
  },
  {
   "cell_type": "markdown",
   "id": "62119587",
   "metadata": {},
   "source": [
    "### Batch learning vs Online learning\n",
    "\n",
    "- Batch learning: Learning algorithm performed on a single dataset of n examples.\n",
    "- Online learning: Learning algorithm that performs one or many operations for each new observation given."
   ]
  },
  {
   "cell_type": "markdown",
   "id": "e093015f",
   "metadata": {},
   "source": [
    "### Training\n",
    "To train a perceptron, we aim to minimize the empirical risk. The empirical risk is a \n",
    "measure of how well the perceptron performs on the training dataset. \n",
    "\n",
    "We suppose that the observations $(\\vec x^i, y^i )$ are not available simultaneously but are observed sequentially.\n",
    "In this case we will use a batch learning.\n",
    "To minimize the empirical risk in an iterative way, we will use the gradient algorithm."
   ]
  },
  {
   "cell_type": "code",
   "execution_count": null,
   "id": "aeb090fb",
   "metadata": {},
   "outputs": [],
   "source": []
  }
 ],
 "metadata": {
  "kernelspec": {
   "display_name": "Python 3 (ipykernel)",
   "language": "python",
   "name": "python3"
  },
  "language_info": {
   "codemirror_mode": {
    "name": "ipython",
    "version": 3
   },
   "file_extension": ".py",
   "mimetype": "text/x-python",
   "name": "python",
   "nbconvert_exporter": "python",
   "pygments_lexer": "ipython3",
   "version": "3.11.0rc1"
  }
 },
 "nbformat": 4,
 "nbformat_minor": 5
}
