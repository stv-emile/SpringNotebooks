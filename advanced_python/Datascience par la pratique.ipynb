{
 "cells": [
  {
   "cell_type": "code",
   "execution_count": 16,
   "id": "034bbfc9",
   "metadata": {},
   "outputs": [],
   "source": []
  },
  {
   "cell_type": "code",
   "execution_count": 23,
   "id": "467fbb8d",
   "metadata": {},
   "outputs": [
    {
     "name": "stdout",
     "output_type": "stream",
     "text": [
      "26\n"
     ]
    }
   ],
   "source": [
    "def apply(f, y=20):\n",
    "    return f(y)\n",
    "y = apply(lambda x: x+4, 10)\n",
    "z = apply(lambda x: x+6)\n",
    "print(z)"
   ]
  },
  {
   "cell_type": "code",
   "execution_count": 25,
   "id": "a06cc096",
   "metadata": {},
   "outputs": [
    {
     "data": {
      "text/plain": [
       "'le monde\\nest grand'"
      ]
     },
     "execution_count": 25,
     "metadata": {},
     "output_type": "execute_result"
    }
   ],
   "source": [
    "#multiple line string\n",
    "\n",
    "w = \"\"\"le monde\n",
    "est grand\"\"\"\n",
    "w"
   ]
  },
  {
   "cell_type": "code",
   "execution_count": 26,
   "id": "29d24ca8",
   "metadata": {},
   "outputs": [
    {
     "name": "stdout",
     "output_type": "stream",
     "text": [
      "division 0\n"
     ]
    }
   ],
   "source": [
    "try:\n",
    "    x = 10\n",
    "    y = x/0\n",
    "except:\n",
    "    print(\"division / 0\")"
   ]
  },
  {
   "cell_type": "code",
   "execution_count": 28,
   "id": "dd13ebcf",
   "metadata": {},
   "outputs": [
    {
     "data": {
      "text/plain": [
       "[[1, 2, 3], ['string', 0.1, True], []]"
      ]
     },
     "execution_count": 28,
     "metadata": {},
     "output_type": "execute_result"
    }
   ],
   "source": [
    "#list\n",
    "\n",
    "integer_list = [1, 2, 3]\n",
    "heterogeneous_lists = [\"string\", 0.1, True]\n",
    "list_of_lists = [integer_list, heterogeneous_lists, []]\n",
    "list_of_lists"
   ]
  },
  {
   "cell_type": "code",
   "execution_count": 32,
   "id": "02f672ec",
   "metadata": {},
   "outputs": [
    {
     "data": {
      "text/plain": [
       "True"
      ]
     },
     "execution_count": 32,
     "metadata": {},
     "output_type": "execute_result"
    }
   ],
   "source": [
    "x = range(10)\n",
    "2 in x"
   ]
  },
  {
   "cell_type": "code",
   "execution_count": 36,
   "id": "cb1fb9ff",
   "metadata": {},
   "outputs": [
    {
     "data": {
      "text/plain": [
       "[23, 23, 25, 21, 26, 17, 12, 54, 53, 9, 0]"
      ]
     },
     "execution_count": 36,
     "metadata": {},
     "output_type": "execute_result"
    }
   ],
   "source": [
    "age = [23, 23, 25, 21, 26, 17]\n",
    "age2 = [12, 54, 53, 9]\n",
    "age.extend(age2)\n",
    "age.append(0)\n",
    "age"
   ]
  },
  {
   "cell_type": "code",
   "execution_count": 41,
   "id": "579d69b5",
   "metadata": {},
   "outputs": [
    {
     "name": "stdout",
     "output_type": "stream",
     "text": [
      "2 , 9\n"
     ]
    }
   ],
   "source": [
    "x, y = [2, 9]\n",
    "print(x,',', y)"
   ]
  },
  {
   "cell_type": "code",
   "execution_count": 43,
   "id": "4da9329a",
   "metadata": {},
   "outputs": [
    {
     "data": {
      "text/plain": [
       "9"
      ]
     },
     "execution_count": 43,
     "metadata": {},
     "output_type": "execute_result"
    }
   ],
   "source": [
    "_, z = [3, 9]\n",
    "z"
   ]
  },
  {
   "cell_type": "code",
   "execution_count": 45,
   "id": "1860f44d",
   "metadata": {},
   "outputs": [
    {
     "name": "stdout",
     "output_type": "stream",
     "text": [
      "cannot modified\n"
     ]
    }
   ],
   "source": [
    "#les tuples \n",
    "t = (2, 3, 4)\n",
    "t[2]\n",
    "try:\n",
    "    t[2]=6\n",
    "except:\n",
    "    print(\"cannot modified\")\n",
    "    \n",
    "    "
   ]
  },
  {
   "cell_type": "code",
   "execution_count": 49,
   "id": "183fd801",
   "metadata": {},
   "outputs": [
    {
     "name": "stdout",
     "output_type": "stream",
     "text": [
      "6 , 8\n"
     ]
    }
   ],
   "source": [
    "def sum_prod(x, y):\n",
    "    return x+y, x*y\n",
    "\n",
    "s, p = sum_prod(2,4)\n",
    "print(s, ',', p)"
   ]
  },
  {
   "cell_type": "code",
   "execution_count": 53,
   "id": "ebbc8063",
   "metadata": {},
   "outputs": [
    {
     "data": {
      "text/plain": [
       "{}"
      ]
     },
     "execution_count": 53,
     "metadata": {},
     "output_type": "execute_result"
    }
   ],
   "source": [
    "#dictionnaire\n",
    "empty_dict = {}\n",
    "empty_dict2 = dict()\n",
    "empty_dict2"
   ]
  },
  {
   "cell_type": "code",
   "execution_count": 54,
   "id": "a18b7768",
   "metadata": {},
   "outputs": [
    {
     "data": {
      "text/plain": [
       "{'joel': 80, 'Tim': 95}"
      ]
     },
     "execution_count": 54,
     "metadata": {},
     "output_type": "execute_result"
    }
   ],
   "source": [
    "grades = {\"joel\":80, \"Tim\": 95}\n",
    "grades"
   ]
  },
  {
   "cell_type": "code",
   "execution_count": 56,
   "id": "f6cc7627",
   "metadata": {},
   "outputs": [
    {
     "data": {
      "text/plain": [
       "80"
      ]
     },
     "execution_count": 56,
     "metadata": {},
     "output_type": "execute_result"
    }
   ],
   "source": [
    "joels_grade = grades[\"joel\"]\n",
    "joels_grade"
   ]
  },
  {
   "cell_type": "code",
   "execution_count": 60,
   "id": "e72c15c3",
   "metadata": {},
   "outputs": [
    {
     "name": "stdout",
     "output_type": "stream",
     "text": [
      "introuvable\n"
     ]
    }
   ],
   "source": [
    "try:\n",
    "    print(grades['who'])\n",
    "except KeyError:\n",
    "    print('introuvable')"
   ]
  },
  {
   "cell_type": "code",
   "execution_count": 61,
   "id": "cee901bc",
   "metadata": {},
   "outputs": [
    {
     "data": {
      "text/plain": [
       "True"
      ]
     },
     "execution_count": 61,
     "metadata": {},
     "output_type": "execute_result"
    }
   ],
   "source": [
    "'joel' in grades "
   ]
  },
  {
   "cell_type": "code",
   "execution_count": 71,
   "id": "e81e71ec",
   "metadata": {},
   "outputs": [
    {
     "data": {
      "text/plain": [
       "False"
      ]
     },
     "execution_count": 71,
     "metadata": {},
     "output_type": "execute_result"
    }
   ],
   "source": [
    "#more secure to find data in dictionnary\n",
    "joe_grade = grades.get(\"joe\",False)\n",
    "joe_grade\n"
   ]
  },
  {
   "cell_type": "code",
   "execution_count": 74,
   "id": "96b2113b",
   "metadata": {},
   "outputs": [
    {
     "data": {
      "text/plain": [
       "{'joel': 80, 'Tim': 95, 'Steeve': 45}"
      ]
     },
     "execution_count": 74,
     "metadata": {},
     "output_type": "execute_result"
    }
   ],
   "source": [
    "grades['Steeve']=45\n",
    "grades"
   ]
  },
  {
   "cell_type": "code",
   "execution_count": 76,
   "id": "bf127dfb",
   "metadata": {},
   "outputs": [
    {
     "data": {
      "text/plain": [
       "11"
      ]
     },
     "execution_count": 76,
     "metadata": {},
     "output_type": "execute_result"
    }
   ],
   "source": [
    "len(grades)\n",
    "len(age)"
   ]
  },
  {
   "cell_type": "code",
   "execution_count": 89,
   "id": "bd7ed3f0",
   "metadata": {},
   "outputs": [
    {
     "data": {
      "text/plain": [
       "True"
      ]
     },
     "execution_count": 89,
     "metadata": {},
     "output_type": "execute_result"
    }
   ],
   "source": [
    "#donne structure en dict\n",
    "reader = {\n",
    "    'name': 'jhon',\n",
    "    'experience':30,\n",
    "    ('books', 'livre'):['Governeur', 'Le rat']\n",
    "}\n",
    "\n",
    "keys = reader.keys()\n",
    "values = reader.values()\n",
    "items = reader.items()\n",
    "\n",
    "('books','livre') in reader\n"
   ]
  },
  {
   "cell_type": "code",
   "execution_count": 4,
   "id": "267e05b6",
   "metadata": {},
   "outputs": [
    {
     "data": {
      "text/plain": [
       "{'A': 6, 'E': 3, 'B': 2, 'C': 1, 'D': 1}"
      ]
     },
     "execution_count": 4,
     "metadata": {},
     "output_type": "execute_result"
    }
   ],
   "source": [
    "#problematique sans defaultdict\n",
    "#defaultict\n",
    "population = ['A', 'E', 'B', 'A', 'E', 'A', 'C', 'A', 'B', 'A', 'A', 'D', 'E']\n",
    "effectif = {}\n",
    "for mode in population:\n",
    "    try:\n",
    "        effectif[mode] += 1\n",
    "    except KeyError:\n",
    "        effectif[mode] = 1\n",
    "effectif"
   ]
  },
  {
   "cell_type": "code",
   "execution_count": 95,
   "id": "0d5935d3",
   "metadata": {},
   "outputs": [
    {
     "data": {
      "text/plain": [
       "{'A': 6, 'E': 3, 'B': 2, 'C': 1, 'D': 1}"
      ]
     },
     "execution_count": 95,
     "metadata": {},
     "output_type": "execute_result"
    }
   ],
   "source": [
    "#problematique sans defaultdict\n",
    "effectif2 = {}\n",
    "for mode in population:\n",
    "    if(mode in effectif2):\n",
    "        effectif2[mode] += 1\n",
    "    else:\n",
    "        effectif2[mode] = 1\n",
    "effectif2"
   ]
  },
  {
   "cell_type": "code",
   "execution_count": 99,
   "id": "62866b57",
   "metadata": {},
   "outputs": [
    {
     "data": {
      "text/plain": [
       "{'A': 6, 'E': 3, 'B': 2, 'C': 1, 'D': 1}"
      ]
     },
     "execution_count": 99,
     "metadata": {},
     "output_type": "execute_result"
    }
   ],
   "source": [
    "#problematique sans defaultdict\n",
    "effectif3 = {}\n",
    "for mode in population:\n",
    "    prev_eff = effectif3.get(mode, 0)\n",
    "    effectif3[mode] = prev_eff+1\n",
    "\n",
    "effectif3"
   ]
  },
  {
   "cell_type": "code",
   "execution_count": 15,
   "id": "f9f14c41",
   "metadata": {},
   "outputs": [
    {
     "data": {
      "text/plain": [
       "defaultdict(int, {'A': 6, 'E': 3, 'B': 2, 'C': 1, 'D': 1})"
      ]
     },
     "execution_count": 15,
     "metadata": {},
     "output_type": "execute_result"
    }
   ],
   "source": [
    "#avec defaultdic pas besoin de se soucier de tout ca.\n",
    "from collections import defaultdict\n",
    "\n",
    "mode_count = defaultdict(int)\n",
    "\n",
    "\n",
    "for mode in population:\n",
    "    mode_count[mode] +=1\n",
    "\n",
    "mode_count\n",
    "\n",
    "    "
   ]
  },
  {
   "cell_type": "code",
   "execution_count": 29,
   "id": "145ab7ce",
   "metadata": {},
   "outputs": [
    {
     "data": {
      "text/plain": [
       "[('du', 2),\n",
       " ('et', 2),\n",
       " ('de', 2),\n",
       " ('manger', 1),\n",
       " ('pain', 1),\n",
       " ('la', 1),\n",
       " ('bananne', 1),\n",
       " ('mure', 1),\n",
       " ('lait', 1),\n",
       " ('avec', 1),\n",
       " (\"l'avoine\", 1),\n",
       " ('chocolait', 1),\n",
       " ('frais', 1)]"
      ]
     },
     "execution_count": 29,
     "metadata": {},
     "output_type": "execute_result"
    }
   ],
   "source": [
    "#Counter de Collection\n",
    "from collections import Counter\n",
    "\n",
    "c = Counter(population)\n",
    "chaine = \"manger du pain et de la bananne mure et du lait avec de l'avoine chocolait frais\"\n",
    "ch_spl = chaine.split(' ')\n",
    "nb_word = Counter(s_ch)\n",
    "most_co = Counter(s_ch).most_common()\n",
    "most_co"
   ]
  },
  {
   "cell_type": "code",
   "execution_count": 51,
   "id": "6cdf12e2",
   "metadata": {},
   "outputs": [],
   "source": [
    "#set en python : ensemble\n",
    "\n",
    "my_list = [1, 3, 2, 0, 1, 4, 2, 5, 2, 1, 3, 2, 5, 2, 0]\n",
    "set_list = set(my_list)\n"
   ]
  },
  {
   "cell_type": "code",
   "execution_count": 39,
   "id": "427bd032",
   "metadata": {},
   "outputs": [
    {
     "data": {
      "text/plain": [
       "[(1, 'a', 'i'), (2, 'b', 'j'), (3, 'c', 'k'), (4, 'd', 'l')]"
      ]
     },
     "execution_count": 39,
     "metadata": {},
     "output_type": "execute_result"
    }
   ],
   "source": [
    "#zip  en python\n",
    "a = [1, 2, 3, 4]\n",
    "b = ['a', 'b', 'c', 'd']\n",
    "c = ['i', 'j', 'k', 'l']\n",
    "list(zip(a,b,c))"
   ]
  },
  {
   "cell_type": "code",
   "execution_count": 45,
   "id": "817b4273",
   "metadata": {},
   "outputs": [
    {
     "name": "stdout",
     "output_type": "stream",
     "text": [
      "False\n",
      "False\n"
     ]
    }
   ],
   "source": [
    "#Vrai ou Faux\n",
    "\n",
    "#equivalent null en python : None\n",
    "print(x is None)\n",
    "print(x == None) # non pythonique\n"
   ]
  },
  {
   "cell_type": "code",
   "execution_count": 50,
   "id": "5c6fc4d1",
   "metadata": {},
   "outputs": [
    {
     "data": {
      "text/plain": [
       "[3]"
      ]
     },
     "execution_count": 50,
     "metadata": {},
     "output_type": "execute_result"
    }
   ],
   "source": [
    "# court circuit\n",
    "\n",
    "lst_a = []\n",
    "lst_b = lst_a and [2, 2, 7]\n",
    "lst_c = lst_a or [2, 2, 7]\n",
    "\n",
    "lst_b\n",
    "lst_c\n"
   ]
  },
  {
   "cell_type": "code",
   "execution_count": 56,
   "id": "e97cda62",
   "metadata": {},
   "outputs": [
    {
     "data": {
      "text/plain": [
       "False"
      ]
     },
     "execution_count": 56,
     "metadata": {},
     "output_type": "execute_result"
    }
   ],
   "source": [
    "#la fonction all en python\n",
    "all([1, {}, [2, 9]]) # tout element vrai\n",
    "any([1, {}, [2, 9]]) # n'import quel element plutot vrai\n",
    "\n",
    "all([]) # vrai : pas d'element plutot faux car il y en a pas. all pa fèzè\n",
    "any([]) # faux : pas d'element plutot vrai \n",
    "\n"
   ]
  },
  {
   "cell_type": "code",
   "execution_count": 66,
   "id": "79bd84af",
   "metadata": {},
   "outputs": [
    {
     "data": {
      "text/plain": [
       "[29, 17, 8, -7, 5, 5, 4, 3, 2, 2, -2, 1, -1, 0, 0]"
      ]
     },
     "execution_count": 66,
     "metadata": {},
     "output_type": "execute_result"
    }
   ],
   "source": [
    "#focntionnalité avancé\n",
    "\n",
    "#trie\n",
    "lst = [1, 3, 2, 0, 1, 4, 2, 5, 2, 1, 3, 2, 5, 2, 0]\n",
    "lstb = [1, 3, 8, 0, -7, 4, 2, 5, 29, -1, 17, 2, 5, -2, 0]\n",
    "\n",
    "#methode sort\n",
    "lst.sort()\n",
    "lst\n",
    "\n",
    "#fonction sorted\n",
    "sorted(lstb, reverse=True, key=abs)\n",
    "\n",
    "\n"
   ]
  },
  {
   "cell_type": "code",
   "execution_count": 24,
   "id": "8ae94e40",
   "metadata": {},
   "outputs": [
    {
     "data": {
      "text/plain": [
       "[(0, 1),\n",
       " (0, 2),\n",
       " (0, 3),\n",
       " (0, 4),\n",
       " (0, 5),\n",
       " (0, 6),\n",
       " (0, 7),\n",
       " (0, 8),\n",
       " (0, 9),\n",
       " (1, 2),\n",
       " (1, 3),\n",
       " (1, 4),\n",
       " (1, 5),\n",
       " (1, 6),\n",
       " (1, 7),\n",
       " (1, 8),\n",
       " (1, 9),\n",
       " (2, 3),\n",
       " (2, 4),\n",
       " (2, 5),\n",
       " (2, 6),\n",
       " (2, 7),\n",
       " (2, 8),\n",
       " (2, 9),\n",
       " (3, 4),\n",
       " (3, 5),\n",
       " (3, 6),\n",
       " (3, 7),\n",
       " (3, 8),\n",
       " (3, 9),\n",
       " (4, 5),\n",
       " (4, 6),\n",
       " (4, 7),\n",
       " (4, 8),\n",
       " (4, 9),\n",
       " (5, 6),\n",
       " (5, 7),\n",
       " (5, 8),\n",
       " (5, 9),\n",
       " (6, 7),\n",
       " (6, 8),\n",
       " (6, 9),\n",
       " (7, 8),\n",
       " (7, 9),\n",
       " (8, 9)]"
      ]
     },
     "execution_count": 24,
     "metadata": {},
     "output_type": "execute_result"
    }
   ],
   "source": [
    "#les lists comprehension\n",
    "a = [1, 3, 5, 9, 10, 8, 3, 2, 7, 3, 7, 9, 0, 1, 8]\n",
    "\n",
    "#even number\n",
    "even_number = [ x for x in range(10) if x % 2 == 0]\n",
    "even_number\n",
    "\n",
    "#carre des nombres\n",
    "squares = [x * x for x in range(20)]\n",
    "sum(squares)\n",
    "\n",
    "#dict de carre\n",
    "sq_dict = {x: x * x for x in range(10)}\n",
    "\n",
    "#set de carre\n",
    "sq_set = {x * x for x in range(20)}\n",
    "sq_set\n",
    "\n",
    "#pas besoin d'un element\n",
    "zeros = [ 0 for _ in range(5)]\n",
    "zeros\n",
    "\n",
    "#list comprehension avec plusieurs boucle\n",
    "pairs = [(x,y) for x in range(10) for y in range(10)]\n",
    "pairs\n",
    "\n",
    "#increasing pairs\n",
    "inc_pairs = [(x, y) for x in range(10) for y in range(x+1, 10)]\n",
    "inc_pairs"
   ]
  },
  {
   "cell_type": "markdown",
   "id": "69bdcc3d",
   "metadata": {},
   "source": [
    "# PARADIS ET ENFER"
   ]
  },
  {
   "cell_type": "code",
   "execution_count": 5,
   "id": "67498d44",
   "metadata": {},
   "outputs": [
    {
     "name": "stderr",
     "output_type": "stream",
     "text": [
      "/tmp/ipykernel_8334/3327261764.py:93: FutureWarning: The frame.append method is deprecated and will be removed from pandas in a future version. Use pandas.concat instead.\n",
      "  self.q_table = self.q_table.append(\n",
      "/tmp/ipykernel_8334/3327261764.py:93: FutureWarning: The frame.append method is deprecated and will be removed from pandas in a future version. Use pandas.concat instead.\n",
      "  self.q_table = self.q_table.append(\n",
      "/tmp/ipykernel_8334/3327261764.py:93: FutureWarning: The frame.append method is deprecated and will be removed from pandas in a future version. Use pandas.concat instead.\n",
      "  self.q_table = self.q_table.append(\n",
      "/tmp/ipykernel_8334/3327261764.py:93: FutureWarning: The frame.append method is deprecated and will be removed from pandas in a future version. Use pandas.concat instead.\n",
      "  self.q_table = self.q_table.append(\n",
      "/tmp/ipykernel_8334/3327261764.py:93: FutureWarning: The frame.append method is deprecated and will be removed from pandas in a future version. Use pandas.concat instead.\n",
      "  self.q_table = self.q_table.append(\n",
      "/tmp/ipykernel_8334/3327261764.py:93: FutureWarning: The frame.append method is deprecated and will be removed from pandas in a future version. Use pandas.concat instead.\n",
      "  self.q_table = self.q_table.append(\n",
      "/tmp/ipykernel_8334/3327261764.py:93: FutureWarning: The frame.append method is deprecated and will be removed from pandas in a future version. Use pandas.concat instead.\n",
      "  self.q_table = self.q_table.append(\n",
      "/tmp/ipykernel_8334/3327261764.py:93: FutureWarning: The frame.append method is deprecated and will be removed from pandas in a future version. Use pandas.concat instead.\n",
      "  self.q_table = self.q_table.append(\n",
      "/tmp/ipykernel_8334/3327261764.py:93: FutureWarning: The frame.append method is deprecated and will be removed from pandas in a future version. Use pandas.concat instead.\n",
      "  self.q_table = self.q_table.append(\n",
      "/tmp/ipykernel_8334/3327261764.py:93: FutureWarning: The frame.append method is deprecated and will be removed from pandas in a future version. Use pandas.concat instead.\n",
      "  self.q_table = self.q_table.append(\n",
      "/tmp/ipykernel_8334/3327261764.py:93: FutureWarning: The frame.append method is deprecated and will be removed from pandas in a future version. Use pandas.concat instead.\n",
      "  self.q_table = self.q_table.append(\n",
      "/tmp/ipykernel_8334/3327261764.py:93: FutureWarning: The frame.append method is deprecated and will be removed from pandas in a future version. Use pandas.concat instead.\n",
      "  self.q_table = self.q_table.append(\n",
      "/tmp/ipykernel_8334/3327261764.py:93: FutureWarning: The frame.append method is deprecated and will be removed from pandas in a future version. Use pandas.concat instead.\n",
      "  self.q_table = self.q_table.append(\n",
      "/tmp/ipykernel_8334/3327261764.py:93: FutureWarning: The frame.append method is deprecated and will be removed from pandas in a future version. Use pandas.concat instead.\n",
      "  self.q_table = self.q_table.append(\n",
      "/tmp/ipykernel_8334/3327261764.py:93: FutureWarning: The frame.append method is deprecated and will be removed from pandas in a future version. Use pandas.concat instead.\n",
      "  self.q_table = self.q_table.append(\n",
      "/tmp/ipykernel_8334/3327261764.py:93: FutureWarning: The frame.append method is deprecated and will be removed from pandas in a future version. Use pandas.concat instead.\n",
      "  self.q_table = self.q_table.append(\n"
     ]
    },
    {
     "ename": "TclError",
     "evalue": "invalid command name \".!canvas\"",
     "output_type": "error",
     "traceback": [
      "\u001b[0;31m---------------------------------------------------------------------------\u001b[0m",
      "\u001b[0;31mTclError\u001b[0m                                  Traceback (most recent call last)",
      "Cell \u001b[0;32mIn[5], line 184\u001b[0m\n\u001b[1;32m    182\u001b[0m \u001b[38;5;28;01mif\u001b[39;00m \u001b[38;5;18m__name__\u001b[39m \u001b[38;5;241m==\u001b[39m \u001b[38;5;124m\"\u001b[39m\u001b[38;5;124m__main__\u001b[39m\u001b[38;5;124m\"\u001b[39m:\n\u001b[1;32m    183\u001b[0m     env \u001b[38;5;241m=\u001b[39m Maze()\n\u001b[0;32m--> 184\u001b[0m     \u001b[43mupdate\u001b[49m\u001b[43m(\u001b[49m\u001b[43m)\u001b[49m\n\u001b[1;32m    185\u001b[0m     env\u001b[38;5;241m.\u001b[39mmainloop()\n",
      "Cell \u001b[0;32mIn[5], line 167\u001b[0m, in \u001b[0;36mupdate\u001b[0;34m()\u001b[0m\n\u001b[1;32m    165\u001b[0m \u001b[38;5;28;01mwhile\u001b[39;00m \u001b[38;5;28;01mTrue\u001b[39;00m :\n\u001b[1;32m    166\u001b[0m     env\u001b[38;5;241m.\u001b[39mrender()\n\u001b[0;32m--> 167\u001b[0m     etatActuel \u001b[38;5;241m=\u001b[39m \u001b[43menv\u001b[49m\u001b[38;5;241;43m.\u001b[39;49m\u001b[43mcanvas\u001b[49m\u001b[38;5;241;43m.\u001b[39;49m\u001b[43mcoords\u001b[49m\u001b[43m(\u001b[49m\u001b[43menv\u001b[49m\u001b[38;5;241;43m.\u001b[39;49m\u001b[43mrect\u001b[49m\u001b[43m)\u001b[49m\n\u001b[1;32m    168\u001b[0m     action \u001b[38;5;241m=\u001b[39m env\u001b[38;5;241m.\u001b[39mchooseAction()\n\u001b[1;32m    169\u001b[0m     env\u001b[38;5;241m.\u001b[39mstep(action)\n",
      "File \u001b[0;32m/usr/lib/python3.11/tkinter/__init__.py:2822\u001b[0m, in \u001b[0;36mCanvas.coords\u001b[0;34m(self, *args)\u001b[0m\n\u001b[1;32m   2818\u001b[0m \u001b[38;5;250m\u001b[39m\u001b[38;5;124;03m\"\"\"Return a list of coordinates for the item given in ARGS.\"\"\"\u001b[39;00m\n\u001b[1;32m   2819\u001b[0m \u001b[38;5;66;03m# XXX Should use _flatten on args\u001b[39;00m\n\u001b[1;32m   2820\u001b[0m \u001b[38;5;28;01mreturn\u001b[39;00m [\u001b[38;5;28mself\u001b[39m\u001b[38;5;241m.\u001b[39mtk\u001b[38;5;241m.\u001b[39mgetdouble(x) \u001b[38;5;28;01mfor\u001b[39;00m x \u001b[38;5;129;01min\u001b[39;00m\n\u001b[1;32m   2821\u001b[0m                    \u001b[38;5;28mself\u001b[39m\u001b[38;5;241m.\u001b[39mtk\u001b[38;5;241m.\u001b[39msplitlist(\n\u001b[0;32m-> 2822\u001b[0m            \u001b[38;5;28;43mself\u001b[39;49m\u001b[38;5;241;43m.\u001b[39;49m\u001b[43mtk\u001b[49m\u001b[38;5;241;43m.\u001b[39;49m\u001b[43mcall\u001b[49m\u001b[43m(\u001b[49m\u001b[43m(\u001b[49m\u001b[38;5;28;43mself\u001b[39;49m\u001b[38;5;241;43m.\u001b[39;49m\u001b[43m_w\u001b[49m\u001b[43m,\u001b[49m\u001b[43m \u001b[49m\u001b[38;5;124;43m'\u001b[39;49m\u001b[38;5;124;43mcoords\u001b[39;49m\u001b[38;5;124;43m'\u001b[39;49m\u001b[43m)\u001b[49m\u001b[43m \u001b[49m\u001b[38;5;241;43m+\u001b[39;49m\u001b[43m \u001b[49m\u001b[43margs\u001b[49m\u001b[43m)\u001b[49m)]\n",
      "\u001b[0;31mTclError\u001b[0m: invalid command name \".!canvas\""
     ]
    }
   ],
   "source": [
    "\"\"\"\n",
    "This part of code is the Q learning brain, which is a brain of the agent.\n",
    "All decisions are made in here.\n",
    "View more on my tutorial page: https://morvanzhou.github.io/tutorials/\n",
    "\"\"\"\n",
    "\n",
    "import numpy as np\n",
    "import pandas as pd\n",
    "import time\n",
    "import sys\n",
    "if sys.version_info.major == 2:\n",
    "    import Tkinter as tk\n",
    "else:\n",
    "    import tkinter as tk\n",
    "\n",
    "#tkinter is for version 3.0 and later\n",
    "#tkinter is toolkit interface\n",
    "\n",
    "UNIT = 100   # pixels\n",
    "MAZE_H = 4 #4  # grid height\n",
    "MAZE_W = 4 #4  # grid width\n",
    "#SIZE = 30 #15\n",
    "HALF_UNIT = UNIT/2\n",
    "HALF_UNIT_MINUS10 = HALF_UNIT - 10\n",
    "SIZE = int(3*UNIT/8)  #HALF_UNIT_MINUS10\n",
    "\n",
    "\n",
    "class Maze(tk.Tk, object):\n",
    "    def __init__(self):\n",
    "        super(Maze, self).__init__()\n",
    "        self.title('maze')\n",
    "        self.geometry('{0}x{1}'.format(MAZE_W * UNIT, MAZE_H * UNIT))\n",
    "        self.action_space = ['gauche', 'droite', 'haut', 'bas']\n",
    "        self.n_actions = len(self.action_space)\n",
    "        self.q_table = pd.DataFrame(columns=self.action_space, dtype=np.float64)\n",
    "        self._build_maze()\n",
    "\n",
    "    def _build_maze(self):\n",
    "        self.canvas = tk.Canvas(self, bg='white',\n",
    "                           height=MAZE_H * UNIT,\n",
    "                           width=MAZE_W * UNIT)\n",
    "        # create grids\n",
    "        for c in range(MAZE_W+1):\n",
    "            x0, y0 = c*UNIT, 0\n",
    "            x1, y1 = x0, y0 + MAZE_H * UNIT\n",
    "            self.canvas.create_line(x0, y0, x1, y1)\n",
    "        for r in range(MAZE_H+1):\n",
    "            x0, y0 = 0, r*UNIT\n",
    "            x1, y1 = x0 + MAZE_W * UNIT, y0\n",
    "            self.canvas.create_line(x0, y0, x1, y1)\n",
    "        # creer le point de départ de carre ou de rond , 1/8 pour laisser une marge\n",
    "        pointDepart = np.array([UNIT/8, UNIT/8])\n",
    "        #creer un carre a la premiere case\n",
    "        x0, y0 = pointDepart[0], pointDepart[1]\n",
    "        x1, y1 = x0+3*UNIT/4, y0+3*UNIT/4\n",
    "        self.rect = self.canvas.create_rectangle(x0, y0, x1, y1, fill='red')\n",
    "        #creer un rond a la sixieme case\n",
    "        #x0, y0 = pointDepart[0] + (MAZE_W - 1) * UNIT, pointDepart[1]\n",
    "        #x1, y1 = x0+3*UNIT/4, y0+3*UNIT/4\n",
    "        #self.oval = self.canvas.create_oval(x0, y0, x1, y1, fill='yellow')\n",
    "        \n",
    "        \n",
    "        #creer un paradis rond a la case 3, 3\n",
    "        x0, y0 = pointDepart[0] + (2) * UNIT, pointDepart[1] + (2) * UNIT\n",
    "        x1, y1 = x0+3*UNIT/4, y0+3*UNIT/4\n",
    "        self.oval = self.canvas.create_oval(x0, y0, x1, y1, fill='yellow')\n",
    "        #self.paradis = \n",
    "        \n",
    "        #enfer a la case 2,3\n",
    "        x0, y0 = pointDepart[0] + (1) * UNIT, pointDepart[1] + (2) * UNIT\n",
    "        x1, y1 = x0+3*UNIT/4, y0+3*UNIT/4\n",
    "        self.enfer_23 = self.canvas.create_oval(x0, y0, x1, y1, fill='blue')\n",
    "        \n",
    "        #enfer a la case 3,2\n",
    "        x0, y0 = pointDepart[0] + (2) * UNIT, pointDepart[1] + (1) * UNIT\n",
    "        x1, y1 = x0+3*UNIT/4, y0+3*UNIT/4\n",
    "        self.enfer_32 = self.canvas.create_oval(x0, y0, x1, y1, fill='blue')\n",
    "\n",
    "        \n",
    "        # pack all\n",
    "        self.canvas.pack()\n",
    "        \n",
    "        return self.rect\n",
    "        \n",
    "    def render(self):\n",
    "        time.sleep(0.5)\n",
    "        self.update()\n",
    "        \n",
    "    def check_state_exist(self) :\n",
    "        s = str(self.canvas.coords(self.rect))\n",
    "        if s not in self.q_table.index:\n",
    "            # append new state to q table\n",
    "            self.q_table = self.q_table.append(\n",
    "                pd.Series(\n",
    "                    [0]*len(self.action_space),\n",
    "                    index=self.q_table.columns,\n",
    "                    name=s,\n",
    "                )\n",
    "            )\n",
    "        \n",
    "    def step(self, action):\n",
    "        s = self.canvas.coords(self.rect)\n",
    "        base_action = np.array([0, 0])\n",
    "        if action == 'droite':   # right\n",
    "            if s[0] < (MAZE_W - 1) * UNIT:\n",
    "                base_action[0] += UNIT\n",
    "        elif action == 'gauche':   # left\n",
    "            if s[0] > UNIT:\n",
    "                base_action[0] -= UNIT\n",
    "        elif action == 'bas':   # bas\n",
    "            if s[1] < (MAZE_H - 1) * UNIT:\n",
    "                base_action[1] += UNIT\n",
    "        elif action == 'haut':   # haut\n",
    "            if s[1] > UNIT:\n",
    "                base_action[1] -= UNIT\n",
    "        \n",
    "\n",
    "        self.canvas.move(self.rect, base_action[0], base_action[1])  # move agent\n",
    "        if self.canvas.coords(self.rect) == self.canvas.coords(self.oval) :\n",
    "            return 0\n",
    "        else :\n",
    "            self.check_state_exist()\n",
    "            return 1\n",
    "        \n",
    "    def chooseAction(self) :\n",
    "        epsilon = 0.5 #pour plus ou moins d'exploration\n",
    "        s = str(self.canvas.coords(self.rect))\n",
    "        if np.random.uniform() < epsilon :\n",
    "            action = np.random.choice(self.action_space)\n",
    "        else : \n",
    "            actionScores = self.q_table.loc[s, :]\n",
    "            action = np.random.choice(actionScores[actionScores == np.max(actionScores)].index)\n",
    "        return action\n",
    "    \n",
    "    def learn(self, etatActuel, action, etatSuivant) :\n",
    "        gamma = 0.9 #coefficient d’affaiblissement d’influence d’un état à un autre.\n",
    "        ta = 0.1 #Le taux d'apprentissage caractérisant la part d’une nouvelle étape dans le score d'une action\n",
    "        self.check_state_exist() #l'agent se trouve actuellement dans etatSuivant\n",
    "        if etatSuivant == self.canvas.coords(self.oval) : #etatSuivant est terminal(recompensé)\n",
    "            q_cible = 1\n",
    "        elif etatSuivant == self.canvas.coords(self.enfer_23): #etat suivant est enfer 23 (puni)\n",
    "            q_cible = -1\n",
    "        elif etatSuivant == self.canvas.coords(self.enfer_32): #etat suivant est enfer 32 (puni)\n",
    "            q_cible = -1\n",
    "        else :\n",
    "            actionScores = self.q_table.loc[str(etatSuivant), :]\n",
    "            q_cible = gamma*np.max(actionScores)\n",
    "        q_actuel = self.q_table.loc[str(etatActuel), action]\n",
    "        self.q_table.loc[str(etatActuel), action] += ta*(q_cible - q_actuel)\n",
    "    \n",
    "    def reset(self) :\n",
    "        self.update()\n",
    "        time.sleep(0.1)\n",
    "        self.canvas.delete(self.rect)\n",
    "        pointDepart = np.array([UNIT/8, UNIT/8])\n",
    "        #creer un carre a la premiere case\n",
    "        x0, y0 = pointDepart[0], pointDepart[1]\n",
    "        x1, y1 = x0+3*UNIT/4, y0+3*UNIT/4\n",
    "        self.rect = self.canvas.create_rectangle(x0, y0, x1, y1, fill='red')\n",
    "        \n",
    "def update():\n",
    "    for i in range(100) :\n",
    "        env.reset()\n",
    "        env.check_state_exist()\n",
    "        while True :\n",
    "            env.render()\n",
    "            etatActuel = env.canvas.coords(env.rect)\n",
    "            action = env.chooseAction()\n",
    "            env.step(action)\n",
    "            etatSuivant = env.canvas.coords(env.rect)\n",
    "            env.learn(etatActuel, action, etatSuivant)\n",
    "            if etatSuivant == env.canvas.coords(env.oval) :\n",
    "                break\n",
    "            if etatSuivant == env.canvas.coords(env.enfer_23) :\n",
    "                break\n",
    "            if etatSuivant == env.canvas.coords(env.enfer_32) :\n",
    "                break\n",
    "    print(env.q_table)\n",
    "    print('game over')\n",
    "#env.destroy()\n",
    " \n",
    "if __name__ == \"__main__\":\n",
    "    env = Maze()\n",
    "    update()\n",
    "    env.mainloop()\n"
   ]
  },
  {
   "cell_type": "code",
   "execution_count": 183,
   "id": "98487d89",
   "metadata": {},
   "outputs": [
    {
     "data": {
      "text/plain": [
       "\"\\nimport numpy as np\\n\\nUNIT=100\\ndef cpx(p):\\n    return p-3*(p//3)\\ndef cpy(p):\\n    return p//3\\n\\n#case_number est 0, 1, 2, 3 ...\\ndef create_square(canvas, case_number):\\n    point_depart = np.array([UNIT/8,UNIT/8])\\n    x0, y0 = point_depart[0]+cpx(case_number)*UNIT, point_depart[1]+cpy(case_number)*UNIT\\n    x1, y1 = x0+3*UNIT/4, y0+3*UNIT/4\\n    return canvas.create_rectangle(x0, y0, x1, y1, fill='blue')\\n\\ndef create_circle(canvas, case_number):\\n    point_depart = np.array([UNIT/8,UNIT/8])\\n    x0, y0 = point_depart[0]+cpx(case_number)*UNIT, point_depart[1]+cpy(case_number)*UNIT\\n    x1, y1 = x0+3*UNIT/4, y0+3*UNIT/4\\n    return canvas.create_oval(x0, y0, x1, y1, fill='yellow')\\n\\nroot = tk.Tk()\\n\\nroot.geometry(f'{3*UNIT}x{3*UNIT}')\\ncanvas = tk.Canvas(root,width=3*UNIT, height=3*UNIT)\\n#for p in range(9):\\n#    rect = create_square(canvas, 9)\\n#    print(canvas.coords(rect))\\narr1 = [create_square(canvas,p) for p in range(5)]\\narr2 = [create_circle(canvas,p) for p in range(5,9)]\\ncanvas.pack()\\n\\nroot.mainloop()\\n\\n\""
      ]
     },
     "execution_count": 183,
     "metadata": {},
     "output_type": "execute_result"
    }
   ],
   "source": [
    "import numpy as np\n",
    "import pandas as pd\n",
    "import tkinter as tk\n",
    "\n",
    "\n",
    "#les parametres d'apprentissages : \n",
    "\n",
    "#la probabilité epsilon pour choisir une action aleatoirement\n",
    "#epsilon = 0.2 pour plus d'exploration\n",
    "#epsilon = 0.01 pour un choix plus gourmand\n",
    "\n",
    "#le coefficient gamma d'affaiblissement d'influence d'un état à un autre\n",
    "#gamma = 0.5 pour une propagation d'influence moins forte\n",
    "#gamma = 0.99 pour une propagation d'influence plus forte\n",
    "\n",
    "#le taux d'apprentissage ta : qui caracterise la part d'une nouvelle étape dans le score d'une action\n",
    "#ta = 0.1 pour un apprentissage plus vite avec plus de risque de dériver\n",
    "#ta = 0.005 pour un apprentissage moins vite.\n",
    "#ta peut varier en fonction de périodes : \n",
    "#pour la première période ta = 0.1 pour un apprentissage plus vite au début, \n",
    "#puis à chaque nouvelle période, ta est réduit de 0.0005 jusqu'à ce qu'il devient 0.01 où il ne bouge plus.\n",
    "\"\"\"\n",
    "import numpy as np\n",
    "\n",
    "UNIT=100\n",
    "def cpx(p):\n",
    "    return p-3*(p//3)\n",
    "def cpy(p):\n",
    "    return p//3\n",
    "\n",
    "#case_number est 0, 1, 2, 3 ...\n",
    "def create_square(canvas, case_number):\n",
    "    point_depart = np.array([UNIT/8,UNIT/8])\n",
    "    x0, y0 = point_depart[0]+cpx(case_number)*UNIT, point_depart[1]+cpy(case_number)*UNIT\n",
    "    x1, y1 = x0+3*UNIT/4, y0+3*UNIT/4\n",
    "    return canvas.create_rectangle(x0, y0, x1, y1, fill='blue')\n",
    "\n",
    "def create_circle(canvas, case_number):\n",
    "    point_depart = np.array([UNIT/8,UNIT/8])\n",
    "    x0, y0 = point_depart[0]+cpx(case_number)*UNIT, point_depart[1]+cpy(case_number)*UNIT\n",
    "    x1, y1 = x0+3*UNIT/4, y0+3*UNIT/4\n",
    "    return canvas.create_oval(x0, y0, x1, y1, fill='yellow')\n",
    "\n",
    "root = tk.Tk()\n",
    "\n",
    "root.geometry(f'{3*UNIT}x{3*UNIT}')\n",
    "canvas = tk.Canvas(root,width=3*UNIT, height=3*UNIT)\n",
    "#for p in range(9):\n",
    "#    rect = create_square(canvas, 9)\n",
    "#    print(canvas.coords(rect))\n",
    "arr1 = [create_square(canvas,p) for p in range(5)]\n",
    "arr2 = [create_circle(canvas,p) for p in range(5,9)]\n",
    "canvas.pack()\n",
    "\n",
    "root.mainloop()\n",
    "\n",
    "\"\"\""
   ]
  },
  {
   "cell_type": "markdown",
   "id": "75065525",
   "metadata": {},
   "source": [
    "# TEST DE FONCTION"
   ]
  },
  {
   "cell_type": "code",
   "execution_count": 173,
   "id": "675ef5a4",
   "metadata": {},
   "outputs": [
    {
     "name": "stdout",
     "output_type": "stream",
     "text": [
      "[0, 1, 2, 3, 4, 5, 6, 7, 8, 9]\n",
      "9\n",
      "[0, 1, 2, 3, 4, 5, 6, 7, 8]\n",
      "2\n",
      "[0, 1, 3, 4, 5, 6, 7, 8]\n"
     ]
    }
   ],
   "source": [
    "#code pour trouver position\n",
    "import numpy as np\n",
    "import random\n",
    "def cpx(p):\n",
    "    return p-3*(p//3)\n",
    "def cpy(p):\n",
    "    return p//3\n",
    "\n",
    "#for p in range(9):\n",
    "#    cx = cpx(p)\n",
    "#    cy = cpy(p)\n",
    "#    print(f'{cx},{cy}')\n",
    "space = list(range(10))\n",
    "def choose_random_action(space):\n",
    "    val = space.pop(random.randrange(len(space)))\n",
    "    return val\n",
    "\n",
    "def choose_exact_action(space,action):\n",
    "    try:\n",
    "        space.remove(action)\n",
    "    except:\n",
    "        return space\n",
    "    \n",
    "print(space)\n",
    "val = choose_random_action(space)\n",
    "print(val)\n",
    "print(space)\n",
    "\n",
    "val = choose_random_action(space)\n",
    "print(val)\n",
    "print(space)\n"
   ]
  },
  {
   "cell_type": "markdown",
   "id": "80510685",
   "metadata": {},
   "source": [
    "# TIC TAC TOE"
   ]
  },
  {
   "cell_type": "code",
   "execution_count": 55,
   "id": "4196ae6b",
   "metadata": {},
   "outputs": [
    {
     "ename": "TclError",
     "evalue": "invalid command name \".!canvas\"",
     "output_type": "error",
     "traceback": [
      "\u001b[0;31m---------------------------------------------------------------------------\u001b[0m",
      "\u001b[0;31mTclError\u001b[0m                                  Traceback (most recent call last)",
      "Cell \u001b[0;32mIn[55], line 248\u001b[0m\n\u001b[1;32m    246\u001b[0m \u001b[38;5;28;01mif\u001b[39;00m \u001b[38;5;18m__name__\u001b[39m \u001b[38;5;241m==\u001b[39m \u001b[38;5;124m\"\u001b[39m\u001b[38;5;124m__main__\u001b[39m\u001b[38;5;124m\"\u001b[39m:\n\u001b[1;32m    247\u001b[0m     env \u001b[38;5;241m=\u001b[39m Tic_tac_toe()\n\u001b[0;32m--> 248\u001b[0m     \u001b[43mupdate\u001b[49m\u001b[43m(\u001b[49m\u001b[43m)\u001b[49m\n\u001b[1;32m    249\u001b[0m     env\u001b[38;5;241m.\u001b[39mmainloop()\n",
      "Cell \u001b[0;32mIn[55], line 226\u001b[0m, in \u001b[0;36mupdate\u001b[0;34m()\u001b[0m\n\u001b[1;32m    223\u001b[0m \u001b[38;5;28;01mif\u001b[39;00m square_turn:\n\u001b[1;32m    224\u001b[0m     \u001b[38;5;66;03m#choose action\u001b[39;00m\n\u001b[1;32m    225\u001b[0m     action \u001b[38;5;241m=\u001b[39m env\u001b[38;5;241m.\u001b[39mchoose_random_action()\n\u001b[0;32m--> 226\u001b[0m     \u001b[43menv\u001b[49m\u001b[38;5;241;43m.\u001b[39;49m\u001b[43msquare_play\u001b[49m\u001b[43m(\u001b[49m\u001b[43maction\u001b[49m\u001b[43m)\u001b[49m\n\u001b[1;32m    227\u001b[0m     square_turn \u001b[38;5;241m=\u001b[39m \u001b[38;5;28;01mFalse\u001b[39;00m\n\u001b[1;32m    228\u001b[0m \u001b[38;5;28;01melse\u001b[39;00m:\n\u001b[1;32m    229\u001b[0m     \u001b[38;5;66;03m#choose action\u001b[39;00m\n",
      "Cell \u001b[0;32mIn[55], line 176\u001b[0m, in \u001b[0;36mTic_tac_toe.square_play\u001b[0;34m(self, action)\u001b[0m\n\u001b[1;32m    175\u001b[0m \u001b[38;5;28;01mdef\u001b[39;00m \u001b[38;5;21msquare_play\u001b[39m(\u001b[38;5;28mself\u001b[39m, action):\n\u001b[0;32m--> 176\u001b[0m     \u001b[38;5;28mself\u001b[39m\u001b[38;5;241m.\u001b[39magents\u001b[38;5;241m.\u001b[39mappend(\u001b[38;5;28;43mself\u001b[39;49m\u001b[38;5;241;43m.\u001b[39;49m\u001b[43mcreate_square\u001b[49m\u001b[43m(\u001b[49m\u001b[43maction\u001b[49m\u001b[43m)\u001b[49m)\n\u001b[1;32m    177\u001b[0m     \u001b[38;5;28mself\u001b[39m\u001b[38;5;241m.\u001b[39mstate[action]\u001b[38;5;241m=\u001b[39m\u001b[38;5;241m1\u001b[39m\n",
      "Cell \u001b[0;32mIn[55], line 166\u001b[0m, in \u001b[0;36mTic_tac_toe.create_square\u001b[0;34m(self, case_number)\u001b[0m\n\u001b[1;32m    164\u001b[0m x0, y0 \u001b[38;5;241m=\u001b[39m point_depart[\u001b[38;5;241m0\u001b[39m]\u001b[38;5;241m+\u001b[39m\u001b[38;5;28mself\u001b[39m\u001b[38;5;241m.\u001b[39mcpx(case_number)\u001b[38;5;241m*\u001b[39mUNIT, point_depart[\u001b[38;5;241m1\u001b[39m]\u001b[38;5;241m+\u001b[39m\u001b[38;5;28mself\u001b[39m\u001b[38;5;241m.\u001b[39mcpy(case_number)\u001b[38;5;241m*\u001b[39mUNIT\n\u001b[1;32m    165\u001b[0m x1, y1 \u001b[38;5;241m=\u001b[39m x0\u001b[38;5;241m+\u001b[39m\u001b[38;5;241m3\u001b[39m\u001b[38;5;241m*\u001b[39mUNIT\u001b[38;5;241m/\u001b[39m\u001b[38;5;241m4\u001b[39m, y0\u001b[38;5;241m+\u001b[39m\u001b[38;5;241m3\u001b[39m\u001b[38;5;241m*\u001b[39mUNIT\u001b[38;5;241m/\u001b[39m\u001b[38;5;241m4\u001b[39m\n\u001b[0;32m--> 166\u001b[0m \u001b[38;5;28;01mreturn\u001b[39;00m \u001b[38;5;28;43mself\u001b[39;49m\u001b[38;5;241;43m.\u001b[39;49m\u001b[43mcanvas\u001b[49m\u001b[38;5;241;43m.\u001b[39;49m\u001b[43mcreate_rectangle\u001b[49m\u001b[43m(\u001b[49m\u001b[43mx0\u001b[49m\u001b[43m,\u001b[49m\u001b[43m \u001b[49m\u001b[43my0\u001b[49m\u001b[43m,\u001b[49m\u001b[43m \u001b[49m\u001b[43mx1\u001b[49m\u001b[43m,\u001b[49m\u001b[43m \u001b[49m\u001b[43my1\u001b[49m\u001b[43m,\u001b[49m\u001b[43m \u001b[49m\u001b[43mfill\u001b[49m\u001b[38;5;241;43m=\u001b[39;49m\u001b[38;5;124;43m'\u001b[39;49m\u001b[38;5;124;43mblue\u001b[39;49m\u001b[38;5;124;43m'\u001b[39;49m\u001b[43m)\u001b[49m\n",
      "File \u001b[0;32m/usr/lib/python3.11/tkinter/__init__.py:2862\u001b[0m, in \u001b[0;36mCanvas.create_rectangle\u001b[0;34m(self, *args, **kw)\u001b[0m\n\u001b[1;32m   2860\u001b[0m \u001b[38;5;28;01mdef\u001b[39;00m \u001b[38;5;21mcreate_rectangle\u001b[39m(\u001b[38;5;28mself\u001b[39m, \u001b[38;5;241m*\u001b[39margs, \u001b[38;5;241m*\u001b[39m\u001b[38;5;241m*\u001b[39mkw):\n\u001b[1;32m   2861\u001b[0m \u001b[38;5;250m    \u001b[39m\u001b[38;5;124;03m\"\"\"Create rectangle with coordinates x1,y1,x2,y2.\"\"\"\u001b[39;00m\n\u001b[0;32m-> 2862\u001b[0m     \u001b[38;5;28;01mreturn\u001b[39;00m \u001b[38;5;28;43mself\u001b[39;49m\u001b[38;5;241;43m.\u001b[39;49m\u001b[43m_create\u001b[49m\u001b[43m(\u001b[49m\u001b[38;5;124;43m'\u001b[39;49m\u001b[38;5;124;43mrectangle\u001b[39;49m\u001b[38;5;124;43m'\u001b[39;49m\u001b[43m,\u001b[49m\u001b[43m \u001b[49m\u001b[43margs\u001b[49m\u001b[43m,\u001b[49m\u001b[43m \u001b[49m\u001b[43mkw\u001b[49m\u001b[43m)\u001b[49m\n",
      "File \u001b[0;32m/usr/lib/python3.11/tkinter/__init__.py:2832\u001b[0m, in \u001b[0;36mCanvas._create\u001b[0;34m(self, itemType, args, kw)\u001b[0m\n\u001b[1;32m   2830\u001b[0m \u001b[38;5;28;01melse\u001b[39;00m:\n\u001b[1;32m   2831\u001b[0m     cnf \u001b[38;5;241m=\u001b[39m {}\n\u001b[0;32m-> 2832\u001b[0m \u001b[38;5;28;01mreturn\u001b[39;00m \u001b[38;5;28mself\u001b[39m\u001b[38;5;241m.\u001b[39mtk\u001b[38;5;241m.\u001b[39mgetint(\u001b[38;5;28;43mself\u001b[39;49m\u001b[38;5;241;43m.\u001b[39;49m\u001b[43mtk\u001b[49m\u001b[38;5;241;43m.\u001b[39;49m\u001b[43mcall\u001b[49m\u001b[43m(\u001b[49m\n\u001b[1;32m   2833\u001b[0m \u001b[43m    \u001b[49m\u001b[38;5;28;43mself\u001b[39;49m\u001b[38;5;241;43m.\u001b[39;49m\u001b[43m_w\u001b[49m\u001b[43m,\u001b[49m\u001b[43m \u001b[49m\u001b[38;5;124;43m'\u001b[39;49m\u001b[38;5;124;43mcreate\u001b[39;49m\u001b[38;5;124;43m'\u001b[39;49m\u001b[43m,\u001b[49m\u001b[43m \u001b[49m\u001b[43mitemType\u001b[49m\u001b[43m,\u001b[49m\n\u001b[1;32m   2834\u001b[0m \u001b[43m    \u001b[49m\u001b[38;5;241;43m*\u001b[39;49m\u001b[43m(\u001b[49m\u001b[43margs\u001b[49m\u001b[43m \u001b[49m\u001b[38;5;241;43m+\u001b[39;49m\u001b[43m \u001b[49m\u001b[38;5;28;43mself\u001b[39;49m\u001b[38;5;241;43m.\u001b[39;49m\u001b[43m_options\u001b[49m\u001b[43m(\u001b[49m\u001b[43mcnf\u001b[49m\u001b[43m,\u001b[49m\u001b[43m \u001b[49m\u001b[43mkw\u001b[49m\u001b[43m)\u001b[49m\u001b[43m)\u001b[49m\u001b[43m)\u001b[49m)\n",
      "\u001b[0;31mTclError\u001b[0m: invalid command name \".!canvas\""
     ]
    }
   ],
   "source": [
    "#create grid\n",
    "\n",
    "#entrainer pour 100 Rounds - chaque round abouti a un gain de cercle ou une perte de cercle\n",
    "#boucler a l'infini jusqu'au gain ou une perte de cercle\n",
    "#drapeau de tour : cercle et carre a tour de role.\n",
    "#mettre un agent aleatoirement dans l'un des espaces vides (choix parmi les case a etat 0)\n",
    "#les cases a etat zero = espace des action, E0 = [0,1,2,3,4,5,6,7,8]\n",
    "#position\n",
    "#A chaque action choisi E perd une action \n",
    "#gain carre et perd cercle si \n",
    "#[111xxxxxx],[xxx111xxx],[xxxxxx111],[1xxx1xxx1],[1xx1xx1xx],[x1xx1xx1x],[xx1xx1xx1],[xx1x1x1xx]\n",
    "\n",
    "\n",
    "\n",
    "\"\"\"\n",
    "This part of code is the Q learning brain, which is a brain of the agent.\n",
    "All decisions are made in here.\n",
    "View more on my tutorial page: https://morvanzhou.github.io/tutorials/\n",
    "\"\"\"\n",
    "\n",
    "import numpy as np\n",
    "import pandas as pd\n",
    "import random\n",
    "import time\n",
    "import sys\n",
    "if sys.version_info.major == 2:\n",
    "    import Tkinter as tk\n",
    "else:\n",
    "    import tkinter as tk\n",
    "\n",
    "#tkinter is for version 3.0 and later\n",
    "#tkinter is toolkit interface\n",
    "\n",
    "UNIT = 100   # pixels\n",
    "TIC_TAC_TOE_H = 3 #4  # grid height\n",
    "TIC_TAC_TOE_W = 3 #4  # grid width\n",
    "#SIZE = 30 #15\n",
    "HALF_UNIT = UNIT/2\n",
    "HALF_UNIT_MINUS10 = HALF_UNIT - 10\n",
    "SIZE = int(3*UNIT/8)  #HALF_UNIT_MINUS10\n",
    "\n",
    "EMPTY = 0\n",
    "SQUARE = 1\n",
    "CIRCLE = 2\n",
    "\n",
    "WON_STATE_SPACE = np.array([[1,1,1, 0,0,0, 0,0,0],\n",
    "                   [0,0,0, 1,1,1, 0,0,0],\n",
    "                   [0,0,0, 0,0,0, 1,1,1],\n",
    "                   [1,0,0, 0,1,0, 0,0,1],\n",
    "                   [1,0,0, 1,0,0, 1,0,0],\n",
    "                   [0,1,0, 0,1,0, 0,1,0],\n",
    "                   [0,0,1, 0,0,1, 0,0,1],\n",
    "                   [0,0,1, 0,1,0, 1,0,0]])\n",
    "\n",
    "\n",
    "class Tic_tac_toe(tk.Tk, object):\n",
    "    def __init__(self):\n",
    "        super(Tic_tac_toe, self).__init__()\n",
    "        self.title('maze')\n",
    "        self.geometry('{0}x{1}'.format(TIC_TAC_TOE_W * UNIT, TIC_TAC_TOE_H * UNIT))\n",
    "        \n",
    "        self.action_space = list(range(TIC_TAC_TOE_W * TIC_TAC_TOE_H))\n",
    "        self.state = np.zeros(9, dtype=int)\n",
    "        \n",
    "        self.n_actions = len(self.action_space)\n",
    "        self.q_table_square = pd.DataFrame(columns=self.action_space, dtype=np.float64)\n",
    "        self.q_table_circle = pd.DataFrame(columns=self.action_space, dtype=np.float64)\n",
    "        \n",
    "        self.agents = []\n",
    "        self._build_tic_tac_toe()\n",
    "        \n",
    "    def cpx(self, p):\n",
    "        return p-3*(p//3)\n",
    "    def cpy(self, p):\n",
    "        return p//3\n",
    "\n",
    "    def _build_tic_tac_toe(self):\n",
    "        self.canvas = tk.Canvas(self, bg='white',\n",
    "                           height=TIC_TAC_TOE_H * UNIT,\n",
    "                           width=TIC_TAC_TOE_W * UNIT)\n",
    "        # create grids\n",
    "        for c in range(TIC_TAC_TOE_W+1):\n",
    "            x0, y0 = c*UNIT, 0\n",
    "            x1, y1 = x0, y0 + TIC_TAC_TOE_H * UNIT\n",
    "            self.canvas.create_line(x0, y0, x1, y1)\n",
    "        for r in range(TIC_TAC_TOE_H+1):\n",
    "            x0, y0 = 0, r*UNIT\n",
    "            x1, y1 = x0 + TIC_TAC_TOE_W * UNIT, y0\n",
    "            self.canvas.create_line(x0, y0, x1, y1)\n",
    "            \n",
    "        #self.square = self.create_square(self.choose_random_action())\n",
    "        #self.circle = self.create_circle(self.choose_random_action())\n",
    "        \n",
    "        \n",
    "        # pack all\n",
    "        self.canvas.pack()\n",
    "        \n",
    "        #return self.square\n",
    "    \n",
    "    \n",
    "        \n",
    "    def render(self):\n",
    "        time.sleep(0.1)\n",
    "        self.update()\n",
    "        \n",
    "    def check_state_exist(self, previous_state) :\n",
    "        state_key = str(previous_state)\n",
    "        if state_key not in self.q_table_square.index:\n",
    "            # append new state to q_table_square\n",
    "            self.q_table_square = self.q_table_square.append(\n",
    "                pd.Series(\n",
    "                    [0]*self.n_actions,\n",
    "                    index=self.q_table.columns,\n",
    "                    name=state_key,\n",
    "                )\n",
    "            )\n",
    " \n",
    "    def chooseAction(self) :\n",
    "        epsilon = 0.5 #pour plus ou moins d'exploration\n",
    "        state_key = str(self.state)\n",
    "        if np.random.uniform() < epsilon :\n",
    "            action = self.choose_random_action()\n",
    "        else :\n",
    "            try:\n",
    "                #on prend la ligne des scores du state courant,\n",
    "                #c'est a dire en prenant les score de que les colonnes se trouvent dans le state courant.\n",
    "                actionScores = self.q_table_square.loc[state_key, self.action_space]\n",
    "                #on fait le choix du plus grand score parmi tout\n",
    "                action = np.random.choice(actionScores[actionScores == np.max(actionScores)].index)\n",
    "                self.choose_exact_action(action)\n",
    "            except:\n",
    "                action = self.choose_random_action()\n",
    "        return action\n",
    "    \n",
    "    def learn(self, previous_state, action) :\n",
    "        gamma = 0.9 #coefficient d’affaiblissement d’influence d’un état à un autre.\n",
    "        ta = 0.1 #Le taux d'apprentissage caractérisant la part d’une nouvelle étape dans le score d'une action\n",
    "        self.check_state_exist(previous_state) #l'agent se trouve actuellement dans etatSuivant\n",
    "        if self.is_square_won(): #etatSuivant est terminal(recompensé)\n",
    "            self.q_table_square.loc[str(previous_state), action] += 1\n",
    "        elif self.is_circle_won(): #etat suivant est enfer 23 (puni)\n",
    "            self.q_table_square.loc[str(previous_state), action] -= 1\n",
    "        #else :\n",
    "            #actionScores = self.q_table_square.loc[str(previous_state), :]\n",
    "            #q_cible = gamma*np.max(actionScores)\n",
    "        #q_actuel = self.q_table_square.loc[str(previous_state), action]\n",
    "        #self.q_table_square.loc[str(previous_state), action] += ta*(q_cible - q_actuel)\n",
    "    \n",
    "    def reset(self) :\n",
    "        self.update()\n",
    "        time.sleep(0.5)\n",
    "        \n",
    "        self.action_space = list(range(TIC_TAC_TOE_W * TIC_TAC_TOE_H))\n",
    "        self.state = np.zeros(9, dtype=int)\n",
    "        \n",
    "        for agent in self.agents:\n",
    "            self.canvas.delete(agent)\n",
    "        \n",
    "    #_____________________________________________________________\n",
    "                \n",
    "        #case_number est 0, 1, 2, 3 ...\n",
    "    def create_square(self, case_number):\n",
    "        point_depart = np.array([UNIT/8,UNIT/8])\n",
    "        x0, y0 = point_depart[0]+self.cpx(case_number)*UNIT, point_depart[1]+self.cpy(case_number)*UNIT\n",
    "        x1, y1 = x0+3*UNIT/4, y0+3*UNIT/4\n",
    "        return self.canvas.create_rectangle(x0, y0, x1, y1, fill='blue')\n",
    "\n",
    "    def create_circle(self, case_number):\n",
    "        point_depart = np.array([UNIT/8,UNIT/8])\n",
    "        x0, y0 = point_depart[0]+self.cpx(case_number)*UNIT, point_depart[1]+self.cpy(case_number)*UNIT\n",
    "        x1, y1 = x0+3*UNIT/4, y0+3*UNIT/4\n",
    "        return self.canvas.create_oval(x0, y0, x1, y1, fill='yellow')\n",
    "    \n",
    "    #quand Square joue, il place un carre dans le case au numero corresspondant a l'action\n",
    "    def square_play(self, action):\n",
    "        self.agents.append(self.create_square(action))\n",
    "        self.state[action]=1\n",
    "   \n",
    "    #quand Square joue, il place un carre dans le case au numero corresspondant a l'action\n",
    "    def circle_play(self, action):\n",
    "        self.agents.append(self.create_circle(action))\n",
    "        self.state[action]=2\n",
    "        \n",
    "    \n",
    "    def choose_random_action(self):\n",
    "        action = self.action_space.pop(random.randrange(len(self.action_space)))\n",
    "        return action\n",
    "\n",
    "    def choose_exact_action(self,action):\n",
    "        try:\n",
    "            self.action_space.remove(action)\n",
    "            return action\n",
    "        except:\n",
    "            print(\"Erreur\")\n",
    "            return\n",
    "    \n",
    "    def is_square_won(self):\n",
    "        for won_state in WON_STATE_SPACE:\n",
    "            if np.sum(self.state & won_state) == 3:\n",
    "                return True\n",
    "        return False\n",
    "\n",
    "    def is_circle_won(self):\n",
    "        for won_state in WON_STATE_SPACE:\n",
    "            if np.sum((self.state & won_state)//2) == 3:\n",
    "                return True\n",
    "        return False\n",
    "\n",
    "def update():\n",
    "    \n",
    "    for i in range(100) :\n",
    "        env.reset()\n",
    "        #env.check_state_exist()\n",
    "        square_turn = True\n",
    "        #while True :\n",
    "        for j in range(6):\n",
    "            \n",
    "            env.render()\n",
    "            #previous_state must save \n",
    "            #previous_state = env.state\n",
    "            #action = env.chooseAction()\n",
    "            #env.learn(previous_state, action)\n",
    "            if square_turn:\n",
    "                #choose action\n",
    "                action = env.choose_random_action()\n",
    "                env.square_play(action)\n",
    "                square_turn = False\n",
    "            else:\n",
    "                #choose action\n",
    "                action = env.choose_random_action() \n",
    "                env.circle_play(action)\n",
    "                square_turn = True\n",
    "        \n",
    "            if env.is_circle_won():\n",
    "                break\n",
    "            if env.is_square_won():\n",
    "                break\n",
    "            \n",
    "            \n",
    "\n",
    "    \n",
    "    #print(env.q_table)\n",
    "    print('game over')\n",
    "#env.destroy()\n",
    " \n",
    "if __name__ == \"__main__\":\n",
    "    env = Tic_tac_toe()\n",
    "    update()\n",
    "    env.mainloop()\n"
   ]
  },
  {
   "cell_type": "code",
   "execution_count": 210,
   "id": "008b6193",
   "metadata": {},
   "outputs": [
    {
     "data": {
      "text/plain": [
       "0"
      ]
     },
     "execution_count": 210,
     "metadata": {},
     "output_type": "execute_result"
    }
   ],
   "source": [
    "import numpy as np\n",
    "\n",
    "WON_STATE_SPACE = np.array([[1,1,1, 0,0,0, 0,0,0],\n",
    "                   [0,0,0, 1,1,1, 0,0,0],\n",
    "                   [0,0,0, 0,0,0, 1,1,1],\n",
    "                   [1,0,0, 0,1,0, 0,0,1],\n",
    "                   [1,0,0, 1,0,0, 1,0,0],\n",
    "                   [0,1,0, 0,1,0, 0,1,0],\n",
    "                   [0,0,1, 0,0,1, 0,0,1],\n",
    "                   [0,0,1, 0,1,0, 1,0,0]])\n",
    "\n",
    "def is_square_won(state):\n",
    "    for won_state in won_state_space:\n",
    "        if np.sum(state & won_state) == 3:\n",
    "            return True\n",
    "    return False\n",
    "\n",
    "def is_square_won():\n",
    "    for s in won_state_space:\n",
    "        if np.sum((state & won_state)//2) == 3:\n",
    "            return True\n",
    "    return False\n",
    "\n",
    "\n",
    "    \n"
   ]
  },
  {
   "cell_type": "code",
   "execution_count": 51,
   "id": "d2339532",
   "metadata": {},
   "outputs": [
    {
     "name": "stdout",
     "output_type": "stream",
     "text": [
      "[0, 1, 2, 3, 4, 5, 6, 7, 8]\n",
      "[0 0 0 0 0 0 0 0 0]\n"
     ]
    },
    {
     "name": "stderr",
     "output_type": "stream",
     "text": [
      "/tmp/ipykernel_96366/3703120312.py:13: FutureWarning: The frame.append method is deprecated and will be removed from pandas in a future version. Use pandas.concat instead.\n",
      "  q_table_square = q_table_square.append(pd.Series([0]*len(action_space),index=q_table_square.columns,name=state_key))\n"
     ]
    },
    {
     "data": {
      "text/plain": [
       "2    0.0\n",
       "4    0.0\n",
       "Name: [0 0 0 0 0 0 0 0 0], dtype: float64"
      ]
     },
     "execution_count": 51,
     "metadata": {},
     "output_type": "execute_result"
    }
   ],
   "source": [
    "import numpy as np\n",
    "import pandas as pd\n",
    "\n",
    "action_space = list(range(3*3))\n",
    "q_table_square = pd.DataFrame(columns=action_space, dtype=np.float64)\n",
    "state = np.zeros(9, dtype=int)\n",
    "state_key = str(state)\n",
    "\n",
    "print(action_space)\n",
    "print(state_key)\n",
    "\n",
    "pd.Series([0]*len(action_space))\n",
    "q_table_square = q_table_square.append(pd.Series([0]*len(action_space),index=q_table_square.columns,name=state_key))\n",
    "q_table_square\n",
    "actionScores = q_table_square.loc[state_key,[2,4]]\n",
    "actionScores"
   ]
  },
  {
   "cell_type": "code",
   "execution_count": 38,
   "id": "987af1bf",
   "metadata": {},
   "outputs": [
    {
     "data": {
      "text/plain": [
       "0    0\n",
       "1    0\n",
       "2    0\n",
       "3    0\n",
       "4    0\n",
       "5    0\n",
       "6    0\n",
       "7    0\n",
       "8    0\n",
       "dtype: int64"
      ]
     },
     "execution_count": 38,
     "metadata": {},
     "output_type": "execute_result"
    }
   ],
   "source": [
    "import numpy as np\n",
    "pd.Series([0]*len(action_space))"
   ]
  },
  {
   "cell_type": "code",
   "execution_count": null,
   "id": "5616d707",
   "metadata": {},
   "outputs": [],
   "source": []
  },
  {
   "cell_type": "code",
   "execution_count": null,
   "id": "f5c11505",
   "metadata": {},
   "outputs": [],
   "source": []
  }
 ],
 "metadata": {
  "kernelspec": {
   "display_name": "Python 3 (ipykernel)",
   "language": "python",
   "name": "python3"
  },
  "language_info": {
   "codemirror_mode": {
    "name": "ipython",
    "version": 3
   },
   "file_extension": ".py",
   "mimetype": "text/x-python",
   "name": "python",
   "nbconvert_exporter": "python",
   "pygments_lexer": "ipython3",
   "version": "3.11.0rc1"
  }
 },
 "nbformat": 4,
 "nbformat_minor": 5
}
