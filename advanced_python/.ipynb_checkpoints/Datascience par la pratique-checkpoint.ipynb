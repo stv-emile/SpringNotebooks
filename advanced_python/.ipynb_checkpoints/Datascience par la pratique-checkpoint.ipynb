{
 "cells": [
  {
   "cell_type": "code",
   "execution_count": 16,
   "id": "034bbfc9",
   "metadata": {},
   "outputs": [],
   "source": []
  },
  {
   "cell_type": "code",
   "execution_count": 23,
   "id": "467fbb8d",
   "metadata": {},
   "outputs": [
    {
     "name": "stdout",
     "output_type": "stream",
     "text": [
      "26\n"
     ]
    }
   ],
   "source": [
    "def apply(f, y=20):\n",
    "    return f(y)\n",
    "y = apply(lambda x: x+4, 10)\n",
    "z = apply(lambda x: x+6)\n",
    "print(z)"
   ]
  },
  {
   "cell_type": "code",
   "execution_count": 25,
   "id": "a06cc096",
   "metadata": {},
   "outputs": [
    {
     "data": {
      "text/plain": [
       "'le monde\\nest grand'"
      ]
     },
     "execution_count": 25,
     "metadata": {},
     "output_type": "execute_result"
    }
   ],
   "source": [
    "#multiple line string\n",
    "\n",
    "w = \"\"\"le monde\n",
    "est grand\"\"\"\n",
    "w"
   ]
  },
  {
   "cell_type": "code",
   "execution_count": 26,
   "id": "29d24ca8",
   "metadata": {},
   "outputs": [
    {
     "name": "stdout",
     "output_type": "stream",
     "text": [
      "division 0\n"
     ]
    }
   ],
   "source": [
    "try:\n",
    "    x = 10\n",
    "    y = x/0\n",
    "except:\n",
    "    print(\"division / 0\")"
   ]
  },
  {
   "cell_type": "code",
   "execution_count": 28,
   "id": "dd13ebcf",
   "metadata": {},
   "outputs": [
    {
     "data": {
      "text/plain": [
       "[[1, 2, 3], ['string', 0.1, True], []]"
      ]
     },
     "execution_count": 28,
     "metadata": {},
     "output_type": "execute_result"
    }
   ],
   "source": [
    "#list\n",
    "\n",
    "integer_list = [1, 2, 3]\n",
    "heterogeneous_lists = [\"string\", 0.1, True]\n",
    "list_of_lists = [integer_list, heterogeneous_lists, []]\n",
    "list_of_lists"
   ]
  },
  {
   "cell_type": "code",
   "execution_count": 32,
   "id": "02f672ec",
   "metadata": {},
   "outputs": [
    {
     "data": {
      "text/plain": [
       "True"
      ]
     },
     "execution_count": 32,
     "metadata": {},
     "output_type": "execute_result"
    }
   ],
   "source": [
    "x = range(10)\n",
    "2 in x"
   ]
  },
  {
   "cell_type": "code",
   "execution_count": 36,
   "id": "cb1fb9ff",
   "metadata": {},
   "outputs": [
    {
     "data": {
      "text/plain": [
       "[23, 23, 25, 21, 26, 17, 12, 54, 53, 9, 0]"
      ]
     },
     "execution_count": 36,
     "metadata": {},
     "output_type": "execute_result"
    }
   ],
   "source": [
    "age = [23, 23, 25, 21, 26, 17]\n",
    "age2 = [12, 54, 53, 9]\n",
    "age.extend(age2)\n",
    "age.append(0)\n",
    "age"
   ]
  },
  {
   "cell_type": "code",
   "execution_count": 41,
   "id": "579d69b5",
   "metadata": {},
   "outputs": [
    {
     "name": "stdout",
     "output_type": "stream",
     "text": [
      "2 , 9\n"
     ]
    }
   ],
   "source": [
    "x, y = [2, 9]\n",
    "print(x,',', y)"
   ]
  },
  {
   "cell_type": "code",
   "execution_count": 43,
   "id": "4da9329a",
   "metadata": {},
   "outputs": [
    {
     "data": {
      "text/plain": [
       "9"
      ]
     },
     "execution_count": 43,
     "metadata": {},
     "output_type": "execute_result"
    }
   ],
   "source": [
    "_, z = [3, 9]\n",
    "z"
   ]
  },
  {
   "cell_type": "code",
   "execution_count": 45,
   "id": "1860f44d",
   "metadata": {},
   "outputs": [
    {
     "name": "stdout",
     "output_type": "stream",
     "text": [
      "cannot modified\n"
     ]
    }
   ],
   "source": [
    "#les tuples \n",
    "t = (2, 3, 4)\n",
    "t[2]\n",
    "try:\n",
    "    t[2]=6\n",
    "except:\n",
    "    print(\"cannot modified\")\n",
    "    \n",
    "    "
   ]
  },
  {
   "cell_type": "code",
   "execution_count": 49,
   "id": "183fd801",
   "metadata": {},
   "outputs": [
    {
     "name": "stdout",
     "output_type": "stream",
     "text": [
      "6 , 8\n"
     ]
    }
   ],
   "source": [
    "def sum_prod(x, y):\n",
    "    return x+y, x*y\n",
    "\n",
    "s, p = sum_prod(2,4)\n",
    "print(s, ',', p)"
   ]
  },
  {
   "cell_type": "code",
   "execution_count": 53,
   "id": "ebbc8063",
   "metadata": {},
   "outputs": [
    {
     "data": {
      "text/plain": [
       "{}"
      ]
     },
     "execution_count": 53,
     "metadata": {},
     "output_type": "execute_result"
    }
   ],
   "source": [
    "#dictionnaire\n",
    "empty_dict = {}\n",
    "empty_dict2 = dict()\n",
    "empty_dict2"
   ]
  },
  {
   "cell_type": "code",
   "execution_count": 54,
   "id": "a18b7768",
   "metadata": {},
   "outputs": [
    {
     "data": {
      "text/plain": [
       "{'joel': 80, 'Tim': 95}"
      ]
     },
     "execution_count": 54,
     "metadata": {},
     "output_type": "execute_result"
    }
   ],
   "source": [
    "grades = {\"joel\":80, \"Tim\": 95}\n",
    "grades"
   ]
  },
  {
   "cell_type": "code",
   "execution_count": 56,
   "id": "f6cc7627",
   "metadata": {},
   "outputs": [
    {
     "data": {
      "text/plain": [
       "80"
      ]
     },
     "execution_count": 56,
     "metadata": {},
     "output_type": "execute_result"
    }
   ],
   "source": [
    "joels_grade = grades[\"joel\"]\n",
    "joels_grade"
   ]
  },
  {
   "cell_type": "code",
   "execution_count": 60,
   "id": "e72c15c3",
   "metadata": {},
   "outputs": [
    {
     "name": "stdout",
     "output_type": "stream",
     "text": [
      "introuvable\n"
     ]
    }
   ],
   "source": [
    "try:\n",
    "    print(grades['who'])\n",
    "except KeyError:\n",
    "    print('introuvable')"
   ]
  },
  {
   "cell_type": "code",
   "execution_count": 61,
   "id": "cee901bc",
   "metadata": {},
   "outputs": [
    {
     "data": {
      "text/plain": [
       "True"
      ]
     },
     "execution_count": 61,
     "metadata": {},
     "output_type": "execute_result"
    }
   ],
   "source": [
    "'joel' in grades "
   ]
  },
  {
   "cell_type": "code",
   "execution_count": 71,
   "id": "e81e71ec",
   "metadata": {},
   "outputs": [
    {
     "data": {
      "text/plain": [
       "False"
      ]
     },
     "execution_count": 71,
     "metadata": {},
     "output_type": "execute_result"
    }
   ],
   "source": [
    "#more secure to find data in dictionnary\n",
    "joe_grade = grades.get(\"joe\",False)\n",
    "joe_grade\n"
   ]
  },
  {
   "cell_type": "code",
   "execution_count": 74,
   "id": "96b2113b",
   "metadata": {},
   "outputs": [
    {
     "data": {
      "text/plain": [
       "{'joel': 80, 'Tim': 95, 'Steeve': 45}"
      ]
     },
     "execution_count": 74,
     "metadata": {},
     "output_type": "execute_result"
    }
   ],
   "source": [
    "grades['Steeve']=45\n",
    "grades"
   ]
  },
  {
   "cell_type": "code",
   "execution_count": 76,
   "id": "bf127dfb",
   "metadata": {},
   "outputs": [
    {
     "data": {
      "text/plain": [
       "11"
      ]
     },
     "execution_count": 76,
     "metadata": {},
     "output_type": "execute_result"
    }
   ],
   "source": [
    "len(grades)\n",
    "len(age)"
   ]
  },
  {
   "cell_type": "code",
   "execution_count": 89,
   "id": "bd7ed3f0",
   "metadata": {},
   "outputs": [
    {
     "data": {
      "text/plain": [
       "True"
      ]
     },
     "execution_count": 89,
     "metadata": {},
     "output_type": "execute_result"
    }
   ],
   "source": [
    "#donne structure en dict\n",
    "reader = {\n",
    "    'name': 'jhon',\n",
    "    'experience':30,\n",
    "    ('books', 'livre'):['Governeur', 'Le rat']\n",
    "}\n",
    "\n",
    "keys = reader.keys()\n",
    "values = reader.values()\n",
    "items = reader.items()\n",
    "\n",
    "('books','livre') in reader\n"
   ]
  },
  {
   "cell_type": "code",
   "execution_count": 4,
   "id": "267e05b6",
   "metadata": {},
   "outputs": [
    {
     "data": {
      "text/plain": [
       "{'A': 6, 'E': 3, 'B': 2, 'C': 1, 'D': 1}"
      ]
     },
     "execution_count": 4,
     "metadata": {},
     "output_type": "execute_result"
    }
   ],
   "source": [
    "#problematique sans defaultdict\n",
    "#defaultict\n",
    "population = ['A', 'E', 'B', 'A', 'E', 'A', 'C', 'A', 'B', 'A', 'A', 'D', 'E']\n",
    "effectif = {}\n",
    "for mode in population:\n",
    "    try:\n",
    "        effectif[mode] += 1\n",
    "    except KeyError:\n",
    "        effectif[mode] = 1\n",
    "effectif"
   ]
  },
  {
   "cell_type": "code",
   "execution_count": 95,
   "id": "0d5935d3",
   "metadata": {},
   "outputs": [
    {
     "data": {
      "text/plain": [
       "{'A': 6, 'E': 3, 'B': 2, 'C': 1, 'D': 1}"
      ]
     },
     "execution_count": 95,
     "metadata": {},
     "output_type": "execute_result"
    }
   ],
   "source": [
    "#problematique sans defaultdict\n",
    "effectif2 = {}\n",
    "for mode in population:\n",
    "    if(mode in effectif2):\n",
    "        effectif2[mode] += 1\n",
    "    else:\n",
    "        effectif2[mode] = 1\n",
    "effectif2"
   ]
  },
  {
   "cell_type": "code",
   "execution_count": 99,
   "id": "62866b57",
   "metadata": {},
   "outputs": [
    {
     "data": {
      "text/plain": [
       "{'A': 6, 'E': 3, 'B': 2, 'C': 1, 'D': 1}"
      ]
     },
     "execution_count": 99,
     "metadata": {},
     "output_type": "execute_result"
    }
   ],
   "source": [
    "#problematique sans defaultdict\n",
    "effectif3 = {}\n",
    "for mode in population:\n",
    "    prev_eff = effectif3.get(mode, 0)\n",
    "    effectif3[mode] = prev_eff+1\n",
    "\n",
    "effectif3"
   ]
  },
  {
   "cell_type": "code",
   "execution_count": 15,
   "id": "f9f14c41",
   "metadata": {},
   "outputs": [
    {
     "data": {
      "text/plain": [
       "defaultdict(int, {'A': 6, 'E': 3, 'B': 2, 'C': 1, 'D': 1})"
      ]
     },
     "execution_count": 15,
     "metadata": {},
     "output_type": "execute_result"
    }
   ],
   "source": [
    "#avec defaultdic pas besoin de se soucier de tout ca.\n",
    "from collections import defaultdict\n",
    "\n",
    "mode_count = defaultdict(int)\n",
    "\n",
    "\n",
    "for mode in population:\n",
    "    mode_count[mode] +=1\n",
    "\n",
    "mode_count\n",
    "\n",
    "    "
   ]
  },
  {
   "cell_type": "code",
   "execution_count": 29,
   "id": "145ab7ce",
   "metadata": {},
   "outputs": [
    {
     "data": {
      "text/plain": [
       "[('du', 2),\n",
       " ('et', 2),\n",
       " ('de', 2),\n",
       " ('manger', 1),\n",
       " ('pain', 1),\n",
       " ('la', 1),\n",
       " ('bananne', 1),\n",
       " ('mure', 1),\n",
       " ('lait', 1),\n",
       " ('avec', 1),\n",
       " (\"l'avoine\", 1),\n",
       " ('chocolait', 1),\n",
       " ('frais', 1)]"
      ]
     },
     "execution_count": 29,
     "metadata": {},
     "output_type": "execute_result"
    }
   ],
   "source": [
    "#Counter de Collection\n",
    "from collections import Counter\n",
    "\n",
    "c = Counter(population)\n",
    "chaine = \"manger du pain et de la bananne mure et du lait avec de l'avoine chocolait frais\"\n",
    "ch_spl = chaine.split(' ')\n",
    "nb_word = Counter(s_ch)\n",
    "most_co = Counter(s_ch).most_common()\n",
    "most_co"
   ]
  },
  {
   "cell_type": "code",
   "execution_count": 51,
   "id": "6cdf12e2",
   "metadata": {},
   "outputs": [],
   "source": [
    "#set en python : ensemble\n",
    "\n",
    "my_list = [1, 3, 2, 0, 1, 4, 2, 5, 2, 1, 3, 2, 5, 2, 0]\n",
    "set_list = set(my_list)\n"
   ]
  },
  {
   "cell_type": "code",
   "execution_count": 39,
   "id": "427bd032",
   "metadata": {},
   "outputs": [
    {
     "data": {
      "text/plain": [
       "[(1, 'a', 'i'), (2, 'b', 'j'), (3, 'c', 'k'), (4, 'd', 'l')]"
      ]
     },
     "execution_count": 39,
     "metadata": {},
     "output_type": "execute_result"
    }
   ],
   "source": [
    "#zip  en python\n",
    "a = [1, 2, 3, 4]\n",
    "b = ['a', 'b', 'c', 'd']\n",
    "c = ['i', 'j', 'k', 'l']\n",
    "list(zip(a,b,c))"
   ]
  },
  {
   "cell_type": "code",
   "execution_count": 45,
   "id": "817b4273",
   "metadata": {},
   "outputs": [
    {
     "name": "stdout",
     "output_type": "stream",
     "text": [
      "False\n",
      "False\n"
     ]
    }
   ],
   "source": [
    "#Vrai ou Faux\n",
    "\n",
    "#equivalent null en python : None\n",
    "print(x is None)\n",
    "print(x == None) # non pythonique\n"
   ]
  },
  {
   "cell_type": "code",
   "execution_count": 50,
   "id": "5c6fc4d1",
   "metadata": {},
   "outputs": [
    {
     "data": {
      "text/plain": [
       "[3]"
      ]
     },
     "execution_count": 50,
     "metadata": {},
     "output_type": "execute_result"
    }
   ],
   "source": [
    "# court circuit\n",
    "\n",
    "lst_a = []\n",
    "lst_b = lst_a and [2, 2, 7]\n",
    "lst_c = lst_a or [2, 2, 7]\n",
    "\n",
    "lst_b\n",
    "lst_c\n"
   ]
  },
  {
   "cell_type": "code",
   "execution_count": 56,
   "id": "e97cda62",
   "metadata": {},
   "outputs": [
    {
     "data": {
      "text/plain": [
       "False"
      ]
     },
     "execution_count": 56,
     "metadata": {},
     "output_type": "execute_result"
    }
   ],
   "source": [
    "#la fonction all en python\n",
    "all([1, {}, [2, 9]]) # tout element vrai\n",
    "any([1, {}, [2, 9]]) # n'import quel element plutot vrai\n",
    "\n",
    "all([]) # vrai : pas d'element plutot faux car il y en a pas. all pa fèzè\n",
    "any([]) # faux : pas d'element plutot vrai \n",
    "\n"
   ]
  },
  {
   "cell_type": "code",
   "execution_count": 66,
   "id": "79bd84af",
   "metadata": {},
   "outputs": [
    {
     "data": {
      "text/plain": [
       "[29, 17, 8, -7, 5, 5, 4, 3, 2, 2, -2, 1, -1, 0, 0]"
      ]
     },
     "execution_count": 66,
     "metadata": {},
     "output_type": "execute_result"
    }
   ],
   "source": [
    "#focntionnalité avancé\n",
    "\n",
    "#trie\n",
    "lst = [1, 3, 2, 0, 1, 4, 2, 5, 2, 1, 3, 2, 5, 2, 0]\n",
    "lstb = [1, 3, 8, 0, -7, 4, 2, 5, 29, -1, 17, 2, 5, -2, 0]\n",
    "\n",
    "#methode sort\n",
    "lst.sort()\n",
    "lst\n",
    "\n",
    "#fonction sorted\n",
    "sorted(lstb, reverse=True, key=abs)\n",
    "\n",
    "\n"
   ]
  },
  {
   "cell_type": "code",
   "execution_count": 24,
   "id": "8ae94e40",
   "metadata": {},
   "outputs": [
    {
     "data": {
      "text/plain": [
       "[(0, 1),\n",
       " (0, 2),\n",
       " (0, 3),\n",
       " (0, 4),\n",
       " (0, 5),\n",
       " (0, 6),\n",
       " (0, 7),\n",
       " (0, 8),\n",
       " (0, 9),\n",
       " (1, 2),\n",
       " (1, 3),\n",
       " (1, 4),\n",
       " (1, 5),\n",
       " (1, 6),\n",
       " (1, 7),\n",
       " (1, 8),\n",
       " (1, 9),\n",
       " (2, 3),\n",
       " (2, 4),\n",
       " (2, 5),\n",
       " (2, 6),\n",
       " (2, 7),\n",
       " (2, 8),\n",
       " (2, 9),\n",
       " (3, 4),\n",
       " (3, 5),\n",
       " (3, 6),\n",
       " (3, 7),\n",
       " (3, 8),\n",
       " (3, 9),\n",
       " (4, 5),\n",
       " (4, 6),\n",
       " (4, 7),\n",
       " (4, 8),\n",
       " (4, 9),\n",
       " (5, 6),\n",
       " (5, 7),\n",
       " (5, 8),\n",
       " (5, 9),\n",
       " (6, 7),\n",
       " (6, 8),\n",
       " (6, 9),\n",
       " (7, 8),\n",
       " (7, 9),\n",
       " (8, 9)]"
      ]
     },
     "execution_count": 24,
     "metadata": {},
     "output_type": "execute_result"
    }
   ],
   "source": [
    "#les lists comprehension\n",
    "a = [1, 3, 5, 9, 10, 8, 3, 2, 7, 3, 7, 9, 0, 1, 8]\n",
    "\n",
    "#even number\n",
    "even_number = [ x for x in range(10) if x % 2 == 0]\n",
    "even_number\n",
    "\n",
    "#carre des nombres\n",
    "squares = [x * x for x in range(20)]\n",
    "sum(squares)\n",
    "\n",
    "#dict de carre\n",
    "sq_dict = {x: x * x for x in range(10)}\n",
    "\n",
    "#set de carre\n",
    "sq_set = {x * x for x in range(20)}\n",
    "sq_set\n",
    "\n",
    "#pas besoin d'un element\n",
    "zeros = [ 0 for _ in range(5)]\n",
    "zeros\n",
    "\n",
    "#list comprehension avec plusieurs boucle\n",
    "pairs = [(x,y) for x in range(10) for y in range(10)]\n",
    "pairs\n",
    "\n",
    "#increasing pairs\n",
    "inc_pairs = [(x, y) for x in range(10) for y in range(x+1, 10)]\n",
    "inc_pairs"
   ]
  },
  {
   "cell_type": "code",
   "execution_count": 35,
   "id": "67498d44",
   "metadata": {},
   "outputs": [
    {
     "name": "stderr",
     "output_type": "stream",
     "text": [
      "/tmp/ipykernel_44170/2771788002.py:93: FutureWarning: The frame.append method is deprecated and will be removed from pandas in a future version. Use pandas.concat instead.\n",
      "  self.q_table = self.q_table.append(\n",
      "/tmp/ipykernel_44170/2771788002.py:93: FutureWarning: The frame.append method is deprecated and will be removed from pandas in a future version. Use pandas.concat instead.\n",
      "  self.q_table = self.q_table.append(\n",
      "/tmp/ipykernel_44170/2771788002.py:93: FutureWarning: The frame.append method is deprecated and will be removed from pandas in a future version. Use pandas.concat instead.\n",
      "  self.q_table = self.q_table.append(\n",
      "/tmp/ipykernel_44170/2771788002.py:93: FutureWarning: The frame.append method is deprecated and will be removed from pandas in a future version. Use pandas.concat instead.\n",
      "  self.q_table = self.q_table.append(\n",
      "/tmp/ipykernel_44170/2771788002.py:93: FutureWarning: The frame.append method is deprecated and will be removed from pandas in a future version. Use pandas.concat instead.\n",
      "  self.q_table = self.q_table.append(\n",
      "/tmp/ipykernel_44170/2771788002.py:93: FutureWarning: The frame.append method is deprecated and will be removed from pandas in a future version. Use pandas.concat instead.\n",
      "  self.q_table = self.q_table.append(\n",
      "/tmp/ipykernel_44170/2771788002.py:93: FutureWarning: The frame.append method is deprecated and will be removed from pandas in a future version. Use pandas.concat instead.\n",
      "  self.q_table = self.q_table.append(\n",
      "/tmp/ipykernel_44170/2771788002.py:93: FutureWarning: The frame.append method is deprecated and will be removed from pandas in a future version. Use pandas.concat instead.\n",
      "  self.q_table = self.q_table.append(\n",
      "/tmp/ipykernel_44170/2771788002.py:93: FutureWarning: The frame.append method is deprecated and will be removed from pandas in a future version. Use pandas.concat instead.\n",
      "  self.q_table = self.q_table.append(\n",
      "/tmp/ipykernel_44170/2771788002.py:93: FutureWarning: The frame.append method is deprecated and will be removed from pandas in a future version. Use pandas.concat instead.\n",
      "  self.q_table = self.q_table.append(\n",
      "/tmp/ipykernel_44170/2771788002.py:93: FutureWarning: The frame.append method is deprecated and will be removed from pandas in a future version. Use pandas.concat instead.\n",
      "  self.q_table = self.q_table.append(\n",
      "/tmp/ipykernel_44170/2771788002.py:93: FutureWarning: The frame.append method is deprecated and will be removed from pandas in a future version. Use pandas.concat instead.\n",
      "  self.q_table = self.q_table.append(\n",
      "/tmp/ipykernel_44170/2771788002.py:93: FutureWarning: The frame.append method is deprecated and will be removed from pandas in a future version. Use pandas.concat instead.\n",
      "  self.q_table = self.q_table.append(\n",
      "/tmp/ipykernel_44170/2771788002.py:93: FutureWarning: The frame.append method is deprecated and will be removed from pandas in a future version. Use pandas.concat instead.\n",
      "  self.q_table = self.q_table.append(\n",
      "/tmp/ipykernel_44170/2771788002.py:93: FutureWarning: The frame.append method is deprecated and will be removed from pandas in a future version. Use pandas.concat instead.\n",
      "  self.q_table = self.q_table.append(\n",
      "/tmp/ipykernel_44170/2771788002.py:93: FutureWarning: The frame.append method is deprecated and will be removed from pandas in a future version. Use pandas.concat instead.\n",
      "  self.q_table = self.q_table.append(\n"
     ]
    },
    {
     "name": "stdout",
     "output_type": "stream",
     "text": [
      "                                gauche    droite      haut       bas\n",
      "[12.5, 12.5, 87.5, 87.5]      0.004277  0.541915  0.078906  0.000000\n",
      "[112.5, 12.5, 187.5, 87.5]    0.019501  0.633590  0.031211  0.003825\n",
      "[212.5, 12.5, 287.5, 87.5]    0.193694  0.717391  0.221913 -0.271000\n",
      "[12.5, 112.5, 87.5, 187.5]    0.000000  0.000000  0.000000  0.000000\n",
      "[112.5, 112.5, 187.5, 187.5]  0.000000 -0.100000  0.093241 -0.100000\n",
      "[212.5, 112.5, 287.5, 187.5]  0.000000  0.000000  0.000000  0.000000\n",
      "[312.5, 12.5, 387.5, 87.5]    0.199781  0.028390  0.020526  0.805647\n",
      "[312.5, 112.5, 387.5, 187.5] -0.521703  0.150918  0.162347  0.898769\n",
      "[312.5, 212.5, 387.5, 287.5]  0.999803  0.276566  0.080678  0.006934\n",
      "[12.5, 212.5, 87.5, 287.5]    0.000000 -0.100000  0.000000  0.000000\n",
      "[12.5, 312.5, 87.5, 387.5]    0.000000  0.000000  0.000000  0.000000\n",
      "[112.5, 312.5, 187.5, 387.5]  0.000000  0.000000 -0.100000  0.000000\n",
      "[112.5, 212.5, 187.5, 287.5]  0.000000  0.000000  0.000000  0.000000\n",
      "[312.5, 312.5, 387.5, 387.5]  0.073314  0.000000  0.000000  0.000000\n",
      "[212.5, 212.5, 287.5, 287.5]  0.000000  0.000000  0.000000  0.000000\n",
      "[212.5, 312.5, 287.5, 387.5]  0.000000  0.000000  0.409510  0.000000\n",
      "game over\n"
     ]
    }
   ],
   "source": [
    "\"\"\"\n",
    "This part of code is the Q learning brain, which is a brain of the agent.\n",
    "All decisions are made in here.\n",
    "View more on my tutorial page: https://morvanzhou.github.io/tutorials/\n",
    "\"\"\"\n",
    "\n",
    "import numpy as np\n",
    "import pandas as pd\n",
    "import time\n",
    "import sys\n",
    "if sys.version_info.major == 2:\n",
    "    import Tkinter as tk\n",
    "else:\n",
    "    import tkinter as tk\n",
    "\n",
    "#tkinter is for version 3.0 and later\n",
    "#tkinter is toolkit interface\n",
    "\n",
    "UNIT = 100   # pixels\n",
    "MAZE_H = 4 #4  # grid height\n",
    "MAZE_W = 4 #4  # grid width\n",
    "#SIZE = 30 #15\n",
    "HALF_UNIT = UNIT/2\n",
    "HALF_UNIT_MINUS10 = HALF_UNIT - 10\n",
    "SIZE = int(3*UNIT/8)  #HALF_UNIT_MINUS10\n",
    "\n",
    "\n",
    "class Maze(tk.Tk, object):\n",
    "    def __init__(self):\n",
    "        super(Maze, self).__init__()\n",
    "        self.title('maze')\n",
    "        self.geometry('{0}x{1}'.format(MAZE_W * UNIT, MAZE_H * UNIT))\n",
    "        self.action_space = ['gauche', 'droite', 'haut', 'bas']\n",
    "        self.n_actions = len(self.action_space)\n",
    "        self.q_table = pd.DataFrame(columns=self.action_space, dtype=np.float64)\n",
    "        self._build_maze()\n",
    "\n",
    "    def _build_maze(self):\n",
    "        self.canvas = tk.Canvas(self, bg='white',\n",
    "                           height=MAZE_H * UNIT,\n",
    "                           width=MAZE_W * UNIT)\n",
    "        # create grids\n",
    "        for c in range(MAZE_W+1):\n",
    "            x0, y0 = c*UNIT, 0\n",
    "            x1, y1 = x0, y0 + MAZE_H * UNIT\n",
    "            self.canvas.create_line(x0, y0, x1, y1)\n",
    "        for r in range(MAZE_H+1):\n",
    "            x0, y0 = 0, r*UNIT\n",
    "            x1, y1 = x0 + MAZE_W * UNIT, y0\n",
    "            self.canvas.create_line(x0, y0, x1, y1)\n",
    "        # creer le point de départ de carre ou de rond , 1/8 pour laisser une marge\n",
    "        pointDepart = np.array([UNIT/8, UNIT/8])\n",
    "        #creer un carre a la premiere case\n",
    "        x0, y0 = pointDepart[0], pointDepart[1]\n",
    "        x1, y1 = x0+3*UNIT/4, y0+3*UNIT/4\n",
    "        self.rect = self.canvas.create_rectangle(x0, y0, x1, y1, fill='red')\n",
    "        #creer un rond a la sixieme case\n",
    "        #x0, y0 = pointDepart[0] + (MAZE_W - 1) * UNIT, pointDepart[1]\n",
    "        #x1, y1 = x0+3*UNIT/4, y0+3*UNIT/4\n",
    "        #self.oval = self.canvas.create_oval(x0, y0, x1, y1, fill='yellow')\n",
    "        \n",
    "        \n",
    "        #creer un paradis rond a la case 3, 3\n",
    "        x0, y0 = pointDepart[0] + (2) * UNIT, pointDepart[1] + (2) * UNIT\n",
    "        x1, y1 = x0+3*UNIT/4, y0+3*UNIT/4\n",
    "        self.oval = self.canvas.create_oval(x0, y0, x1, y1, fill='yellow')\n",
    "        #self.paradis = \n",
    "        \n",
    "        #enfer a la case 2,3\n",
    "        x0, y0 = pointDepart[0] + (1) * UNIT, pointDepart[1] + (2) * UNIT\n",
    "        x1, y1 = x0+3*UNIT/4, y0+3*UNIT/4\n",
    "        self.enfer_23 = self.canvas.create_oval(x0, y0, x1, y1, fill='blue')\n",
    "        \n",
    "        #enfer a la case 3,2\n",
    "        x0, y0 = pointDepart[0] + (2) * UNIT, pointDepart[1] + (1) * UNIT\n",
    "        x1, y1 = x0+3*UNIT/4, y0+3*UNIT/4\n",
    "        self.enfer_32 = self.canvas.create_oval(x0, y0, x1, y1, fill='blue')\n",
    "\n",
    "        \n",
    "        # pack all\n",
    "        self.canvas.pack()\n",
    "        \n",
    "        return self.rect\n",
    "        \n",
    "    def render(self):\n",
    "        time.sleep(0.1)\n",
    "        self.update()\n",
    "        \n",
    "    def check_state_exist(self) :\n",
    "        s = str(self.canvas.coords(self.rect))\n",
    "        if s not in self.q_table.index:\n",
    "            # append new state to q table\n",
    "            self.q_table = self.q_table.append(\n",
    "                pd.Series(\n",
    "                    [0]*len(self.action_space),\n",
    "                    index=self.q_table.columns,\n",
    "                    name=s,\n",
    "                )\n",
    "            )\n",
    "        \n",
    "    def step(self, action):\n",
    "        s = self.canvas.coords(self.rect)\n",
    "        base_action = np.array([0, 0])\n",
    "        if action == 'droite':   # right\n",
    "            if s[0] < (MAZE_W - 1) * UNIT:\n",
    "                base_action[0] += UNIT\n",
    "        elif action == 'gauche':   # left\n",
    "            if s[0] > UNIT:\n",
    "                base_action[0] -= UNIT\n",
    "        elif action == 'bas':   # bas\n",
    "            if s[1] < (MAZE_H - 1) * UNIT:\n",
    "                base_action[1] += UNIT\n",
    "        elif action == 'haut':   # haut\n",
    "            if s[1] > UNIT:\n",
    "                base_action[1] -= UNIT\n",
    "        \n",
    "\n",
    "        self.canvas.move(self.rect, base_action[0], base_action[1])  # move agent\n",
    "        if self.canvas.coords(self.rect) == self.canvas.coords(self.oval) :\n",
    "            return 0\n",
    "        else :\n",
    "            self.check_state_exist()\n",
    "            return 1\n",
    "        \n",
    "    def chooseAction(self) : \n",
    "        s = str(self.canvas.coords(self.rect))\n",
    "        if np.random.uniform() < 0.1 :\n",
    "            action = np.random.choice(self.action_space)\n",
    "        else : \n",
    "            actionScores = self.q_table.loc[s, :]\n",
    "            action = np.random.choice(actionScores[actionScores == np.max(actionScores)].index)\n",
    "        return action\n",
    "    \n",
    "    def learn(self, etatActuel, action, etatSuivant) :\n",
    "        self.check_state_exist() #l'agent se trouve actuellement dans etatSuivant\n",
    "        if etatSuivant == self.canvas.coords(self.oval) : #etatSuivant est terminal(recompensé)\n",
    "            q_cible = 1\n",
    "        elif etatSuivant == self.canvas.coords(self.enfer_23): #etat suivant est enfer 23 (puni)\n",
    "            q_cible = -1\n",
    "        elif etatSuivant == self.canvas.coords(self.enfer_32): #etat suivant est enfer 32 (puni)\n",
    "            q_cible = -1\n",
    "        else :\n",
    "            actionScores = self.q_table.loc[str(etatSuivant), :]\n",
    "            q_cible = 0.9*np.max(actionScores)\n",
    "        q_actuel = self.q_table.loc[str(etatActuel), action]\n",
    "        self.q_table.loc[str(etatActuel), action] += 0.1*(q_cible - q_actuel)\n",
    "    \n",
    "    def reset(self) :\n",
    "        self.update()\n",
    "        time.sleep(0.5)\n",
    "        self.canvas.delete(self.rect)\n",
    "        pointDepart = np.array([UNIT/8, UNIT/8])\n",
    "        #creer un carre a la premiere case\n",
    "        x0, y0 = pointDepart[0], pointDepart[1]\n",
    "        x1, y1 = x0+3*UNIT/4, y0+3*UNIT/4\n",
    "        self.rect = self.canvas.create_rectangle(x0, y0, x1, y1, fill='red')\n",
    "        \n",
    "def update():\n",
    "    for i in range(100) :\n",
    "        env.reset()\n",
    "        env.check_state_exist()\n",
    "        while True :\n",
    "            env.render()\n",
    "            etatActuel = env.canvas.coords(env.rect)\n",
    "            action = env.chooseAction()\n",
    "            env.step(action)\n",
    "            etatSuivant = env.canvas.coords(env.rect)\n",
    "            env.learn(etatActuel, action, etatSuivant)\n",
    "            if etatSuivant == env.canvas.coords(env.oval) :\n",
    "                break\n",
    "            if etatSuivant == env.canvas.coords(env.enfer_23) :\n",
    "                break\n",
    "            if etatSuivant == env.canvas.coords(env.enfer_32) :\n",
    "                break\n",
    "    print(env.q_table)\n",
    "    print('game over')\n",
    "#env.destroy()\n",
    " \n",
    "if __name__ == \"__main__\":\n",
    "    env = Maze()\n",
    "    update()\n",
    "    env.mainloop()\n"
   ]
  },
  {
   "cell_type": "code",
   "execution_count": 32,
   "id": "98487d89",
   "metadata": {},
   "outputs": [
    {
     "name": "stdout",
     "output_type": "stream",
     "text": [
      "[20.0, 20.0, 100.0, 100.0]\n"
     ]
    }
   ],
   "source": [
    "import numpy as np\n",
    "import pandas as pd\n",
    "import tkinter as tk\n",
    "\n",
    "root = tk.Tk()\n",
    "\n",
    "root.geometry('300x300')\n",
    "canvas = tk.Canvas(root,width=300, height=300)\n",
    "oval = canvas.create_oval(20, 20, 100, 100, fill='blue')\n",
    "print(canvas.coords(oval))\n",
    "canvas.pack()\n",
    "\n",
    "root.mainloop()"
   ]
  },
  {
   "cell_type": "code",
   "execution_count": null,
   "id": "3c1eaa70",
   "metadata": {},
   "outputs": [],
   "source": []
  }
 ],
 "metadata": {
  "kernelspec": {
   "display_name": "Python 3 (ipykernel)",
   "language": "python",
   "name": "python3"
  },
  "language_info": {
   "codemirror_mode": {
    "name": "ipython",
    "version": 3
   },
   "file_extension": ".py",
   "mimetype": "text/x-python",
   "name": "python",
   "nbconvert_exporter": "python",
   "pygments_lexer": "ipython3",
   "version": "3.11.0rc1"
  }
 },
 "nbformat": 4,
 "nbformat_minor": 5
}
